{
  "nbformat": 4,
  "nbformat_minor": 0,
  "metadata": {
    "colab": {
      "name": "Recitation 3 - Deep Learning.ipynb",
      "provenance": [],
      "collapsed_sections": []
    },
    "kernelspec": {
      "name": "python3",
      "display_name": "Python 3"
    }
  },
  "cells": [
    {
      "cell_type": "markdown",
      "metadata": {
        "id": "5roO16jdKXVG",
        "colab_type": "text"
      },
      "source": [
        "# Recitation 3 - Deep Learning\n",
        "\n",
        "## Introduction\n",
        "\n",
        "* One of the machine learning technique that learns features directly from data.\n",
        "\n",
        "* Why ? When the amounth of data is increased (usually > 1 million), traditional machine learning techniques are insufficient in terms of performance and deep learning gives better performance like accuracy.\n",
        "![](http://preview.ibb.co/d3CEOH/1.png)\n",
        "\n",
        "* Where ? Speech recognition, image classification, natural language procession (nlp) or recommendation systems\n",
        "\n",
        "* Difference between Deep Learning and traditional ML\n",
        "![](http://preview.ibb.co/hgpNAx/2.png)\n",
        "\n",
        "*Most details here are summarized from [1]*"
      ]
    },
    {
      "cell_type": "markdown",
      "metadata": {
        "id": "W7g-Z70PLaUJ",
        "colab_type": "text"
      },
      "source": [
        "## Introduction to Artificial Neural Networks\n",
        "\n",
        "* The most simple neural network is the “perceptron”, which, in its simplest form, consists of a single neuron.\n",
        "\n",
        "![](https://s3.amazonaws.com/assets.datacamp.com/blog_assets/Keras+Python+Tutorial/content_content_neuron.png)\n",
        "\n",
        "* Components of an artifical neuron\n",
        "  1. **Input nodes**: As it so happens, each input node is associated with a numerical value, which can be any real number.\n",
        "  2. **Connections**: Each connection that departs from the input node has a weight associated with it, and this can also be any real number.\n",
        "  3. **Weighted sum**: All the values of the input nodes and weights of the connections are brought together sum: y=f(w1∗x1+w2∗x2+...wD∗xD)\n",
        "  4. **Transfer or Activation function**: The above weighted sum acts as input to a transfer or activation function. Just like a biological neuron only fires when a certain threshold is exceeded, the artificial neuron will also only fire when the sum of the inputs exceeds a threshold!\n",
        " 5. **Output**: The final output node associated with the above function.\n",
        "\n",
        "\n",
        "*Most Text and images in this section are taken from [2]*"
      ]
    },
    {
      "cell_type": "markdown",
      "metadata": {
        "id": "IQvBx-gmItbu",
        "colab_type": "text"
      },
      "source": [
        "## Types of deep learning techniques\n",
        "\n",
        "At a high-level, neural networks are either encoders, decoders, or a combination of both. Encoders find patterns in raw data to form compact, useful representations. Decoders generate new data or high-resolution useful infomation from those representations. As the lecture describes, deep learning discovers ways to **represent** the world so that we can reason about it. The rest is clever methods that help use deal effectively with visual information, language, sound (#1-6) and even act in a world based on this information and occasional rewards (#7).\n",
        "\n",
        "![Deep learning concepts](https://i.imgur.com/EAl47rp.png)\n",
        "\n",
        "\n",
        "1. **Feed Forward Neural Networks (FFNNs)** - classification and regression based on features.\n",
        "2. **Convolutional Neural Networks (CNNs)** - image classification, object detection, video action recognition, etc.\n",
        "3. **Recurrent Neural Networks (RNNs)** - language modeling, speech recognition/generation, etc.\n",
        "4. **Encoder Decoder Architectures** - semantic segmentation, machine translation, etc.\n",
        "5. **Autoencoder** - unsupervised embeddings, denoising, etc.\n",
        "6. **Generative Adversarial Networks (GANs)** - unsupervised generation of realistic images, etc.\n",
        "7. **Deep Reinforcement Learning** - game playing, robotics in simulation, self-play, neural arhitecture search, etc.\n",
        "\n",
        "\n",
        "#### Different Deep Learning Architectures Visualized\n",
        "![Different Deep Learning Architectures Visualized](https://www.guru99.com/images/tensorflow/083018_0542_WhatisDeepl3.png)\n",
        "\n",
        "*Most details here are summarized from [3]*\n"
      ]
    },
    {
      "cell_type": "markdown",
      "metadata": {
        "id": "BziB1sjPJarB",
        "colab_type": "text"
      },
      "source": [
        "## Programming exercise - Wine Prediction\n",
        "\n",
        "* We are given several physicochemical and sensory variables features associated with each wine (features!). **Use Deep Learning to determine whether a given wine is white or red!**\n",
        "\n",
        "* We will be using *Feed forward Neural Networks*, as they are typically used for classification tasks. Our NN will be 3 layers of perceptrons as we shall eventually see.\n",
        "\n",
        "*Most examples and code below is taken from [2]*"
      ]
    },
    {
      "cell_type": "markdown",
      "metadata": {
        "id": "DJJGJeEOVMB1",
        "colab_type": "text"
      },
      "source": [
        "### Loading the data\n",
        "\n",
        "We are using the [wine quality data set](https://archive.ics.uci.edu/ml/datasets/wine+quality) from UCI's machine learning archive."
      ]
    },
    {
      "cell_type": "code",
      "metadata": {
        "id": "ikVVjmWXUW5d",
        "colab_type": "code",
        "colab": {}
      },
      "source": [
        "# Import pandas \n",
        "import pandas as pd\n",
        "import numpy as np\n",
        "\n",
        "# Read in white wine data \n",
        "white = pd.read_csv(\"http://archive.ics.uci.edu/ml/machine-learning-databases/wine-quality/winequality-white.csv\", sep=';')\n",
        "\n",
        "# Read in red wine data \n",
        "red = pd.read_csv(\"http://archive.ics.uci.edu/ml/machine-learning-databases/wine-quality/winequality-red.csv\", sep=';')"
      ],
      "execution_count": 0,
      "outputs": []
    },
    {
      "cell_type": "markdown",
      "metadata": {
        "id": "bxl9XS-OWGGS",
        "colab_type": "text"
      },
      "source": [
        "### Basic Preprocessing\n",
        "\n",
        "Simply denoting red by 1 and white by 0, combining them to form a dataset\n"
      ]
    },
    {
      "cell_type": "code",
      "metadata": {
        "id": "SZAWS3-XWIOz",
        "colab_type": "code",
        "colab": {}
      },
      "source": [
        "# Add `type` column to `red` with value 1\n",
        "red['type'] = 1\n",
        "\n",
        "# Add `type` column to `white` with value 0\n",
        "white['type'] = 0\n",
        "\n",
        "# Append `white` to `red`\n",
        "wines = red.append(white, ignore_index=True)"
      ],
      "execution_count": 0,
      "outputs": []
    },
    {
      "cell_type": "markdown",
      "metadata": {
        "id": "NS6ZUjkWVfh0",
        "colab_type": "text"
      },
      "source": [
        "### Data Exploration\n",
        "\n",
        "Investigate the features.\n",
        "\n",
        "#### Print the individual datasets to see what features exist\n",
        "\n"
      ]
    },
    {
      "cell_type": "code",
      "metadata": {
        "id": "cQmJ8i3-Y53v",
        "colab_type": "code",
        "outputId": "1d912f43-369f-477d-8800-ca56a6b9ab0b",
        "colab": {
          "base_uri": "https://localhost:8080/",
          "height": 731
        }
      },
      "source": [
        "# Print info on white wine\n",
        "print(white.info())\n",
        "\n",
        "# Print info on red wine\n",
        "print(red.info())\n"
      ],
      "execution_count": 40,
      "outputs": [
        {
          "output_type": "stream",
          "text": [
            "<class 'pandas.core.frame.DataFrame'>\n",
            "RangeIndex: 4898 entries, 0 to 4897\n",
            "Data columns (total 13 columns):\n",
            " #   Column                Non-Null Count  Dtype  \n",
            "---  ------                --------------  -----  \n",
            " 0   fixed acidity         4898 non-null   float64\n",
            " 1   volatile acidity      4898 non-null   float64\n",
            " 2   citric acid           4898 non-null   float64\n",
            " 3   residual sugar        4898 non-null   float64\n",
            " 4   chlorides             4898 non-null   float64\n",
            " 5   free sulfur dioxide   4898 non-null   float64\n",
            " 6   total sulfur dioxide  4898 non-null   float64\n",
            " 7   density               4898 non-null   float64\n",
            " 8   pH                    4898 non-null   float64\n",
            " 9   sulphates             4898 non-null   float64\n",
            " 10  alcohol               4898 non-null   float64\n",
            " 11  quality               4898 non-null   int64  \n",
            " 12  type                  4898 non-null   int64  \n",
            "dtypes: float64(11), int64(2)\n",
            "memory usage: 497.6 KB\n",
            "None\n",
            "<class 'pandas.core.frame.DataFrame'>\n",
            "RangeIndex: 1599 entries, 0 to 1598\n",
            "Data columns (total 13 columns):\n",
            " #   Column                Non-Null Count  Dtype  \n",
            "---  ------                --------------  -----  \n",
            " 0   fixed acidity         1599 non-null   float64\n",
            " 1   volatile acidity      1599 non-null   float64\n",
            " 2   citric acid           1599 non-null   float64\n",
            " 3   residual sugar        1599 non-null   float64\n",
            " 4   chlorides             1599 non-null   float64\n",
            " 5   free sulfur dioxide   1599 non-null   float64\n",
            " 6   total sulfur dioxide  1599 non-null   float64\n",
            " 7   density               1599 non-null   float64\n",
            " 8   pH                    1599 non-null   float64\n",
            " 9   sulphates             1599 non-null   float64\n",
            " 10  alcohol               1599 non-null   float64\n",
            " 11  quality               1599 non-null   int64  \n",
            " 12  type                  1599 non-null   int64  \n",
            "dtypes: float64(11), int64(2)\n",
            "memory usage: 162.5 KB\n",
            "None\n"
          ],
          "name": "stdout"
        }
      ]
    },
    {
      "cell_type": "markdown",
      "metadata": {
        "id": "oujAKomNanv0",
        "colab_type": "text"
      },
      "source": [
        "#### Bust some myths ? Does red wine actually have more sulphates for the same alcohol content as compared to white wines, causing more headaches ? Let's see\n"
      ]
    },
    {
      "cell_type": "code",
      "metadata": {
        "id": "M5UvogytarNQ",
        "colab_type": "code",
        "outputId": "5cfdae4b-46c4-443b-cab8-fa256df8c9a2",
        "colab": {
          "base_uri": "https://localhost:8080/",
          "height": 282
        }
      },
      "source": [
        "import matplotlib.pyplot as plt\n",
        "\n",
        "# Construct scatter plots\n",
        "fig, ax = plt.subplots(1, 2, figsize=(8, 4))\n",
        "\n",
        "ax[0].scatter(red['quality'], red[\"sulphates\"], color=\"red\")\n",
        "ax[1].scatter(white['quality'], white['sulphates'], color=\"white\", edgecolors=\"black\", lw=0.5)\n",
        "\n",
        "print ('Quality(x) vs Sulphates(y) for Red and White wines')\n",
        "plt.show()"
      ],
      "execution_count": 41,
      "outputs": [
        {
          "output_type": "stream",
          "text": [
            "Quality(x) vs Sulphates(y) for Red and White wines\n"
          ],
          "name": "stdout"
        },
        {
          "output_type": "display_data",
          "data": {
            "image/png": "[encoded data removed]",
            "text/plain": [
              "<Figure size 576x288 with 2 Axes>"
            ]
          },
          "metadata": {
            "tags": [],
            "needs_background": "light"
          }
        }
      ]
    },
    {
      "cell_type": "markdown",
      "metadata": {
        "id": "TeF4kHwQasFK",
        "colab_type": "text"
      },
      "source": [
        "#### Plot a correlation matrix / heatmap and see what variables correlate with which ones. Very insightful!"
      ]
    },
    {
      "cell_type": "code",
      "metadata": {
        "id": "l_XG42AwWTbE",
        "colab_type": "code",
        "outputId": "c9931c48-0614-42d4-f621-f2a27c2d49a2",
        "colab": {
          "base_uri": "https://localhost:8080/",
          "height": 407
        }
      },
      "source": [
        "import seaborn as sns\n",
        "import matplotlib.pyplot as plt\n",
        "\n",
        "corr = wines.corr()\n",
        "sns.heatmap(corr, \n",
        "            xticklabels=corr.columns.values,\n",
        "            yticklabels=corr.columns.values)\n",
        "plt.show()"
      ],
      "execution_count": 42,
      "outputs": [
        {
          "output_type": "stream",
          "text": [
            "/usr/local/lib/python3.6/dist-packages/statsmodels/tools/_testing.py:19: FutureWarning: pandas.util.testing is deprecated. Use the functions in the public API at pandas.testing instead.\n",
            "  import pandas.util.testing as tm\n"
          ],
          "name": "stderr"
        },
        {
          "output_type": "display_data",
          "data": {
            "image/png": "[encoded data removed]",
            "text/plain": [
              "<Figure size 432x288 with 2 Axes>"
            ]
          },
          "metadata": {
            "tags": [],
            "needs_background": "light"
          }
        }
      ]
    },
    {
      "cell_type": "markdown",
      "metadata": {
        "id": "KOGFhONsbb8L",
        "colab_type": "text"
      },
      "source": [
        "### Split into training and test data\n",
        "\n"
      ]
    },
    {
      "cell_type": "code",
      "metadata": {
        "id": "EIN2vdm4bfLW",
        "colab_type": "code",
        "colab": {}
      },
      "source": [
        "# Import `train_test_split` from `sklearn.model_selection`\n",
        "from sklearn.model_selection import train_test_split\n",
        "\n",
        "# Specify the data (feature matrix)\n",
        "X=wines.iloc[:,0:11]\n",
        "\n",
        "# Specify the target labels and flatten the array \n",
        "y=np.ravel(wines.type)\n",
        "\n",
        "# Split the data up in train and test sets\n",
        "# random_state controls the shuffling, allows for reproducible output\n",
        "X_train, X_test, y_train, y_test = train_test_split(X, y, test_size=0.33, random_state=42)"
      ],
      "execution_count": 0,
      "outputs": []
    },
    {
      "cell_type": "markdown",
      "metadata": {
        "id": "t3lEE0eRvDBG",
        "colab_type": "text"
      },
      "source": [
        "### Standardize the data\n",
        "\n",
        "Standardization of a dataset is a common requirement machine learning. Models may behave badly if the individual features do not more or less look like standard normally distributed data (e.g. Normal distribution with 0 mean and unit variance)."
      ]
    },
    {
      "cell_type": "code",
      "metadata": {
        "id": "R_ACi6y1vSuO",
        "colab_type": "code",
        "colab": {}
      },
      "source": [
        "from sklearn.preprocessing import StandardScaler\n",
        "\n",
        "# Define the scaler \n",
        "scaler = StandardScaler().fit(X_train)\n",
        "\n",
        "# Scale the train set\n",
        "X_train = scaler.transform(X_train)\n",
        "\n",
        "# Scale the test set\n",
        "X_test = scaler.transform(X_test)\n"
      ],
      "execution_count": 0,
      "outputs": []
    },
    {
      "cell_type": "markdown",
      "metadata": {
        "id": "btOB3kHSvthS",
        "colab_type": "text"
      },
      "source": [
        "### Build the Neural Net\n",
        "\n",
        "* For our usecase, we need to do binary classification\n",
        "* A type of network that performs well on such a problem is a multi-layer perceptron. Essentially, we're building a simple stack of fully-connected layers to solve this problem.\n",
        "\n",
        "* We build a network with 3 layers, the first one being the input, an intermediate layer and finally an output layer\n",
        "  * The first argument for `Dense()` tells you how many neurons to incorporate into that layer. It takes in (\\*, 11) as that's the size of the feature matrix, and outputs a matrix of size (\\*, 12).\n",
        "  * The hidden intermediate layer accepts this and outputs a matrix of size (\\*, 8)\n",
        "  * Finally, the output layer is of size one. It is of type 'sigmoid' which represents the probablity of the result being 1 (red).\n",
        "  * `relu` means Rectified Linear Unit. It introduces non linearity and helps in approximation. \n",
        "\n",
        "* Model compilation\n",
        "  * *Loss function* - measures how accurate the model is during training, we want to minimize this with the optimizer. We use `binary_crossentropy` for the binary classification problem of determining whether a wine is red or white. If it were a regression problem, we would use `mse`\n",
        "  * *Optimizer* - how the model is updated based on the data it sees and its loss function.\n",
        "  * *Metrics* - used to monitor the training and testing steps.\n"
      ]
    },
    {
      "cell_type": "code",
      "metadata": {
        "id": "CMCwBCiMxfKh",
        "colab_type": "code",
        "colab": {}
      },
      "source": [
        "import tensorflow as tf\n",
        "from tensorflow import keras\n",
        "from tensorflow.keras.layers import Dense\n",
        "\n",
        "model = keras.Sequential()\n",
        "\n",
        "# Add an input layer \n",
        "model.add(Dense(12, activation=tf.nn.relu, input_shape=(11,)))\n",
        "\n",
        "# Add one hidden layer \n",
        "model.add(Dense(8, activation=tf.nn.relu))\n",
        "\n",
        "# Add an output layer \n",
        "model.add(Dense(1, activation=tf.nn.sigmoid))\n",
        "\n",
        "# Compile the model\n",
        "model.compile(loss='binary_crossentropy',\n",
        "              optimizer=tf.optimizers.Adam(),\n",
        "              metrics=['accuracy'])"
      ],
      "execution_count": 0,
      "outputs": []
    },
    {
      "cell_type": "markdown",
      "metadata": {
        "id": "UORAmpoM5Y-C",
        "colab_type": "text"
      },
      "source": [
        "### Train the Neural Net\n",
        "\n",
        "* We train the model for 10 epochs over all the samples in X_train and y_train, in batches of 1 sample. One iteration in an epoch is one forward + backward propogation for one batch. \n",
        "* Batch refers to the number of training samples passed through the model during one epoch iteration.\n",
        "* An epoch in layman's term is the time it takes to forward propogate and backward propogate for all the sample data in a model. If you have a batch of 16 and 16000 examples, then you’ll do forward and backward in one epoch 1000 times "
      ]
    },
    {
      "cell_type": "code",
      "metadata": {
        "id": "mNgROswl5oiX",
        "colab_type": "code",
        "outputId": "18e53bb0-79ed-48a2-8f55-aebef655b0dd",
        "colab": {
          "base_uri": "https://localhost:8080/",
          "height": 374
        }
      },
      "source": [
        "model.fit(X_train, y_train, epochs=10, batch_size=32, verbose=1)\n"
      ],
      "execution_count": 47,
      "outputs": [
        {
          "output_type": "stream",
          "text": [
            "Epoch 1/10\n",
            "136/136 [==============================] - 0s 1ms/step - loss: 0.0124 - accuracy: 0.9975\n",
            "Epoch 2/10\n",
            "136/136 [==============================] - 0s 1ms/step - loss: 0.0122 - accuracy: 0.9975\n",
            "Epoch 3/10\n",
            "136/136 [==============================] - 0s 1ms/step - loss: 0.0121 - accuracy: 0.9975\n",
            "Epoch 4/10\n",
            "136/136 [==============================] - 0s 1ms/step - loss: 0.0120 - accuracy: 0.9975\n",
            "Epoch 5/10\n",
            "136/136 [==============================] - 0s 1ms/step - loss: 0.0119 - accuracy: 0.9975\n",
            "Epoch 6/10\n",
            "136/136 [==============================] - 0s 1ms/step - loss: 0.0118 - accuracy: 0.9977\n",
            "Epoch 7/10\n",
            "136/136 [==============================] - 0s 2ms/step - loss: 0.0117 - accuracy: 0.9977\n",
            "Epoch 8/10\n",
            "136/136 [==============================] - 0s 1ms/step - loss: 0.0116 - accuracy: 0.9977\n",
            "Epoch 9/10\n",
            "136/136 [==============================] - 0s 1ms/step - loss: 0.0114 - accuracy: 0.9982\n",
            "Epoch 10/10\n",
            "136/136 [==============================] - 0s 1ms/step - loss: 0.0114 - accuracy: 0.9977\n"
          ],
          "name": "stdout"
        },
        {
          "output_type": "execute_result",
          "data": {
            "text/plain": [
              "<tensorflow.python.keras.callbacks.History at 0x7f4f69efc128>"
            ]
          },
          "metadata": {
            "tags": []
          },
          "execution_count": 47
        }
      ]
    },
    {
      "cell_type": "markdown",
      "metadata": {
        "id": "FDNnRgahA6K3",
        "colab_type": "text"
      },
      "source": [
        "### Predict and Validate"
      ]
    },
    {
      "cell_type": "code",
      "metadata": {
        "id": "_tjclXjqBAit",
        "colab_type": "code",
        "outputId": "ed42ccb1-9633-499f-f549-174b7ec4586b",
        "colab": {
          "base_uri": "https://localhost:8080/",
          "height": 51
        }
      },
      "source": [
        "test_loss, test_acc = model.evaluate(X_test, y_test)\n",
        "print (test_acc)"
      ],
      "execution_count": 48,
      "outputs": [
        {
          "output_type": "stream",
          "text": [
            "68/68 [==============================] - 0s 1ms/step - loss: 0.0245 - accuracy: 0.9949\n",
            "0.9948717951774597\n"
          ],
          "name": "stdout"
        }
      ]
    },
    {
      "cell_type": "markdown",
      "metadata": {
        "id": "2Y4_WyM5LlHw",
        "colab_type": "text"
      },
      "source": [
        "# Done!\n",
        "\n",
        "You can now have a 5 minute conversation with data scientists and hold your own :)\n",
        "\n",
        "###References\n",
        "1. https://www.kaggle.com/kanncaa1/deep-learning-tutorial-for-beginners\n",
        "2. https://www.datacamp.com/community/tutorials/deep-learning-python\n",
        "3. https://colab.research.google.com/github/lexfridman/mit-deep-learning/blob/master/tutorial_deep_learning_basics/deep_learning_basics.ipynb\n"
      ]
    }
  ]
}