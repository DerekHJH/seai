{
  "nbformat": 4,
  "nbformat_minor": 0,
  "metadata": {
    "colab": {
      "name": "titanic-notebook.ipynb",
      "provenance": [],
      "collapsed_sections": []
    },
    "kernelspec": {
      "display_name": "Python 3",
      "language": "python",
      "name": "python3"
    },
    "accelerator": "GPU",
    "language_info": {
      "name": "python",
      "version": "3.6.4",
      "mimetype": "text/x-python",
      "codemirror_mode": {
        "name": "ipython",
        "version": 3
      },
      "pygments_lexer": "ipython3",
      "nbconvert_exporter": "python",
      "file_extension": ".py"
    }
  },
  "cells": [
    {
      "cell_type": "markdown",
      "metadata": {
        "id": "Y9vgLCYK8i3h",
        "colab_type": "text",
        "_uuid": "ffbd2310f2c05ed986888f5fff3fc0ae09e4323a"
      },
      "source": [
        "#Titanic Survival Prediction\n",
        "\n",
        "\n",
        "Simple demo, based on https://www.kaggle.com/sriyesh/titanic-survival-prediction-for-beginners\n"
      ]
    },
    {
      "cell_type": "markdown",
      "metadata": {
        "id": "Vvevrb2-7a37",
        "colab_type": "text",
        "_uuid": "007b42552c715c6ef6af0910db50ceeb5a8bceb8"
      },
      "source": [
        "# **1) Import Necessary Library**\n",
        "We will use numpy for numerical calculation, pandas for manupulation of data, matplotlib and seaborn for visualization. %matplotlib inline will make your plot outputs appear and be stored within the notebook"
      ]
    },
    {
      "cell_type": "code",
      "metadata": {
        "id": "XRADthjy7XeC",
        "colab_type": "code",
        "trusted": true,
        "_uuid": "a4812231160ad9f424dc5c14128571f373738a94",
        "colab": {}
      },
      "source": [
        "# data analysis library\n",
        "import numpy as np\n",
        "import pandas as pd\n",
        "\n",
        "# Visuvalization library\n",
        "import matplotlib.pyplot as plt\n",
        "import seaborn as sns\n",
        "%matplotlib inline\n",
        "\n",
        "#ignore warnings\n",
        "import warnings \n",
        "warnings.filterwarnings('ignore')\n"
      ],
      "execution_count": 0,
      "outputs": []
    },
    {
      "cell_type": "markdown",
      "metadata": {
        "id": "Gk4quge09oG1",
        "colab_type": "text",
        "_uuid": "f66a78fab68542062bb866e85b4b6da32ef090eb"
      },
      "source": [
        "#2) Read And Explore Data\n",
        "we will use  pd.read_csv  function to read data from a csv file and store it in a data frame(train).\n",
        "View the first 3 entries of the tain using train.head(3) "
      ]
    },
    {
      "cell_type": "code",
      "metadata": {
        "id": "H1ae_tqz_ajl",
        "colab_type": "code",
        "outputId": "a0cc0114-6cee-40c1-8ba0-cdde8956a364",
        "trusted": true,
        "_uuid": "fa6140ca5c7962321a9c9f6fecdf03aeb2bbf889",
        "colab": {
          "base_uri": "https://localhost:8080/",
          "height": 142
        }
      },
      "source": [
        "# import train and test CSV files\n",
        "train = pd.read_csv('/content/train.csv')\n",
        "test = pd.read_csv('/content/test.csv')\n",
        "\n",
        "#see the first 3 rows of train\n",
        "train.head(3)"
      ],
      "execution_count": 11,
      "outputs": [
        {
          "output_type": "execute_result",
          "data": {
            "text/html": [
              "<div>\n",
              "<style scoped>\n",
              "    .dataframe tbody tr th:only-of-type {\n",
              "        vertical-align: middle;\n",
              "    }\n",
              "\n",
              "    .dataframe tbody tr th {\n",
              "        vertical-align: top;\n",
              "    }\n",
              "\n",
              "    .dataframe thead th {\n",
              "        text-align: right;\n",
              "    }\n",
              "</style>\n",
              "<table border=\"1\" class=\"dataframe\">\n",
              "  <thead>\n",
              "    <tr style=\"text-align: right;\">\n",
              "      <th></th>\n",
              "      <th>PassengerId</th>\n",
              "      <th>Survived</th>\n",
              "      <th>Pclass</th>\n",
              "      <th>Name</th>\n",
              "      <th>Sex</th>\n",
              "      <th>Age</th>\n",
              "      <th>SibSp</th>\n",
              "      <th>Parch</th>\n",
              "      <th>Ticket</th>\n",
              "      <th>Fare</th>\n",
              "      <th>Cabin</th>\n",
              "      <th>Embarked</th>\n",
              "    </tr>\n",
              "  </thead>\n",
              "  <tbody>\n",
              "    <tr>\n",
              "      <th>0</th>\n",
              "      <td>1</td>\n",
              "      <td>0</td>\n",
              "      <td>3</td>\n",
              "      <td>Braund, Mr. Owen Harris</td>\n",
              "      <td>male</td>\n",
              "      <td>22.0</td>\n",
              "      <td>1</td>\n",
              "      <td>0</td>\n",
              "      <td>A/5 21171</td>\n",
              "      <td>7.2500</td>\n",
              "      <td>NaN</td>\n",
              "      <td>S</td>\n",
              "    </tr>\n",
              "    <tr>\n",
              "      <th>1</th>\n",
              "      <td>2</td>\n",
              "      <td>1</td>\n",
              "      <td>1</td>\n",
              "      <td>Cumings, Mrs. John Bradley (Florence Briggs Th...</td>\n",
              "      <td>female</td>\n",
              "      <td>38.0</td>\n",
              "      <td>1</td>\n",
              "      <td>0</td>\n",
              "      <td>PC 17599</td>\n",
              "      <td>71.2833</td>\n",
              "      <td>C85</td>\n",
              "      <td>C</td>\n",
              "    </tr>\n",
              "    <tr>\n",
              "      <th>2</th>\n",
              "      <td>3</td>\n",
              "      <td>1</td>\n",
              "      <td>3</td>\n",
              "      <td>Heikkinen, Miss. Laina</td>\n",
              "      <td>female</td>\n",
              "      <td>26.0</td>\n",
              "      <td>0</td>\n",
              "      <td>0</td>\n",
              "      <td>STON/O2. 3101282</td>\n",
              "      <td>7.9250</td>\n",
              "      <td>NaN</td>\n",
              "      <td>S</td>\n",
              "    </tr>\n",
              "  </tbody>\n",
              "</table>\n",
              "</div>"
            ],
            "text/plain": [
              "   PassengerId  Survived  Pclass  ...     Fare Cabin  Embarked\n",
              "0            1         0       3  ...   7.2500   NaN         S\n",
              "1            2         1       1  ...  71.2833   C85         C\n",
              "2            3         1       3  ...   7.9250   NaN         S\n",
              "\n",
              "[3 rows x 12 columns]"
            ]
          },
          "metadata": {
            "tags": []
          },
          "execution_count": 11
        }
      ]
    },
    {
      "cell_type": "code",
      "metadata": {
        "id": "a3tT3qYB_e3C",
        "colab_type": "code",
        "outputId": "c422be72-e7b2-404a-a392-eb7bc2bb768d",
        "trusted": false,
        "_uuid": "658ae712e8d4519e8c21d57799bbaa5915b9988c",
        "colab": {
          "base_uri": "https://localhost:8080/",
          "height": 390
        }
      },
      "source": [
        "#Look into the training data\n",
        "train.describe(include='all')"
      ],
      "execution_count": 12,
      "outputs": [
        {
          "output_type": "execute_result",
          "data": {
            "text/html": [
              "<div>\n",
              "<style scoped>\n",
              "    .dataframe tbody tr th:only-of-type {\n",
              "        vertical-align: middle;\n",
              "    }\n",
              "\n",
              "    .dataframe tbody tr th {\n",
              "        vertical-align: top;\n",
              "    }\n",
              "\n",
              "    .dataframe thead th {\n",
              "        text-align: right;\n",
              "    }\n",
              "</style>\n",
              "<table border=\"1\" class=\"dataframe\">\n",
              "  <thead>\n",
              "    <tr style=\"text-align: right;\">\n",
              "      <th></th>\n",
              "      <th>PassengerId</th>\n",
              "      <th>Survived</th>\n",
              "      <th>Pclass</th>\n",
              "      <th>Name</th>\n",
              "      <th>Sex</th>\n",
              "      <th>Age</th>\n",
              "      <th>SibSp</th>\n",
              "      <th>Parch</th>\n",
              "      <th>Ticket</th>\n",
              "      <th>Fare</th>\n",
              "      <th>Cabin</th>\n",
              "      <th>Embarked</th>\n",
              "    </tr>\n",
              "  </thead>\n",
              "  <tbody>\n",
              "    <tr>\n",
              "      <th>count</th>\n",
              "      <td>891.000000</td>\n",
              "      <td>891.000000</td>\n",
              "      <td>891.000000</td>\n",
              "      <td>891</td>\n",
              "      <td>891</td>\n",
              "      <td>714.000000</td>\n",
              "      <td>891.000000</td>\n",
              "      <td>891.000000</td>\n",
              "      <td>891</td>\n",
              "      <td>891.000000</td>\n",
              "      <td>204</td>\n",
              "      <td>889</td>\n",
              "    </tr>\n",
              "    <tr>\n",
              "      <th>unique</th>\n",
              "      <td>NaN</td>\n",
              "      <td>NaN</td>\n",
              "      <td>NaN</td>\n",
              "      <td>891</td>\n",
              "      <td>2</td>\n",
              "      <td>NaN</td>\n",
              "      <td>NaN</td>\n",
              "      <td>NaN</td>\n",
              "      <td>681</td>\n",
              "      <td>NaN</td>\n",
              "      <td>147</td>\n",
              "      <td>3</td>\n",
              "    </tr>\n",
              "    <tr>\n",
              "      <th>top</th>\n",
              "      <td>NaN</td>\n",
              "      <td>NaN</td>\n",
              "      <td>NaN</td>\n",
              "      <td>Anderson, Mr. Harry</td>\n",
              "      <td>male</td>\n",
              "      <td>NaN</td>\n",
              "      <td>NaN</td>\n",
              "      <td>NaN</td>\n",
              "      <td>347082</td>\n",
              "      <td>NaN</td>\n",
              "      <td>B96 B98</td>\n",
              "      <td>S</td>\n",
              "    </tr>\n",
              "    <tr>\n",
              "      <th>freq</th>\n",
              "      <td>NaN</td>\n",
              "      <td>NaN</td>\n",
              "      <td>NaN</td>\n",
              "      <td>1</td>\n",
              "      <td>577</td>\n",
              "      <td>NaN</td>\n",
              "      <td>NaN</td>\n",
              "      <td>NaN</td>\n",
              "      <td>7</td>\n",
              "      <td>NaN</td>\n",
              "      <td>4</td>\n",
              "      <td>644</td>\n",
              "    </tr>\n",
              "    <tr>\n",
              "      <th>mean</th>\n",
              "      <td>446.000000</td>\n",
              "      <td>0.383838</td>\n",
              "      <td>2.308642</td>\n",
              "      <td>NaN</td>\n",
              "      <td>NaN</td>\n",
              "      <td>29.699118</td>\n",
              "      <td>0.523008</td>\n",
              "      <td>0.381594</td>\n",
              "      <td>NaN</td>\n",
              "      <td>32.204208</td>\n",
              "      <td>NaN</td>\n",
              "      <td>NaN</td>\n",
              "    </tr>\n",
              "    <tr>\n",
              "      <th>std</th>\n",
              "      <td>257.353842</td>\n",
              "      <td>0.486592</td>\n",
              "      <td>0.836071</td>\n",
              "      <td>NaN</td>\n",
              "      <td>NaN</td>\n",
              "      <td>14.526497</td>\n",
              "      <td>1.102743</td>\n",
              "      <td>0.806057</td>\n",
              "      <td>NaN</td>\n",
              "      <td>49.693429</td>\n",
              "      <td>NaN</td>\n",
              "      <td>NaN</td>\n",
              "    </tr>\n",
              "    <tr>\n",
              "      <th>min</th>\n",
              "      <td>1.000000</td>\n",
              "      <td>0.000000</td>\n",
              "      <td>1.000000</td>\n",
              "      <td>NaN</td>\n",
              "      <td>NaN</td>\n",
              "      <td>0.420000</td>\n",
              "      <td>0.000000</td>\n",
              "      <td>0.000000</td>\n",
              "      <td>NaN</td>\n",
              "      <td>0.000000</td>\n",
              "      <td>NaN</td>\n",
              "      <td>NaN</td>\n",
              "    </tr>\n",
              "    <tr>\n",
              "      <th>25%</th>\n",
              "      <td>223.500000</td>\n",
              "      <td>0.000000</td>\n",
              "      <td>2.000000</td>\n",
              "      <td>NaN</td>\n",
              "      <td>NaN</td>\n",
              "      <td>20.125000</td>\n",
              "      <td>0.000000</td>\n",
              "      <td>0.000000</td>\n",
              "      <td>NaN</td>\n",
              "      <td>7.910400</td>\n",
              "      <td>NaN</td>\n",
              "      <td>NaN</td>\n",
              "    </tr>\n",
              "    <tr>\n",
              "      <th>50%</th>\n",
              "      <td>446.000000</td>\n",
              "      <td>0.000000</td>\n",
              "      <td>3.000000</td>\n",
              "      <td>NaN</td>\n",
              "      <td>NaN</td>\n",
              "      <td>28.000000</td>\n",
              "      <td>0.000000</td>\n",
              "      <td>0.000000</td>\n",
              "      <td>NaN</td>\n",
              "      <td>14.454200</td>\n",
              "      <td>NaN</td>\n",
              "      <td>NaN</td>\n",
              "    </tr>\n",
              "    <tr>\n",
              "      <th>75%</th>\n",
              "      <td>668.500000</td>\n",
              "      <td>1.000000</td>\n",
              "      <td>3.000000</td>\n",
              "      <td>NaN</td>\n",
              "      <td>NaN</td>\n",
              "      <td>38.000000</td>\n",
              "      <td>1.000000</td>\n",
              "      <td>0.000000</td>\n",
              "      <td>NaN</td>\n",
              "      <td>31.000000</td>\n",
              "      <td>NaN</td>\n",
              "      <td>NaN</td>\n",
              "    </tr>\n",
              "    <tr>\n",
              "      <th>max</th>\n",
              "      <td>891.000000</td>\n",
              "      <td>1.000000</td>\n",
              "      <td>3.000000</td>\n",
              "      <td>NaN</td>\n",
              "      <td>NaN</td>\n",
              "      <td>80.000000</td>\n",
              "      <td>8.000000</td>\n",
              "      <td>6.000000</td>\n",
              "      <td>NaN</td>\n",
              "      <td>512.329200</td>\n",
              "      <td>NaN</td>\n",
              "      <td>NaN</td>\n",
              "    </tr>\n",
              "  </tbody>\n",
              "</table>\n",
              "</div>"
            ],
            "text/plain": [
              "        PassengerId    Survived      Pclass  ...        Fare    Cabin  Embarked\n",
              "count    891.000000  891.000000  891.000000  ...  891.000000      204       889\n",
              "unique          NaN         NaN         NaN  ...         NaN      147         3\n",
              "top             NaN         NaN         NaN  ...         NaN  B96 B98         S\n",
              "freq            NaN         NaN         NaN  ...         NaN        4       644\n",
              "mean     446.000000    0.383838    2.308642  ...   32.204208      NaN       NaN\n",
              "std      257.353842    0.486592    0.836071  ...   49.693429      NaN       NaN\n",
              "min        1.000000    0.000000    1.000000  ...    0.000000      NaN       NaN\n",
              "25%      223.500000    0.000000    2.000000  ...    7.910400      NaN       NaN\n",
              "50%      446.000000    0.000000    3.000000  ...   14.454200      NaN       NaN\n",
              "75%      668.500000    1.000000    3.000000  ...   31.000000      NaN       NaN\n",
              "max      891.000000    1.000000    3.000000  ...  512.329200      NaN       NaN\n",
              "\n",
              "[11 rows x 12 columns]"
            ]
          },
          "metadata": {
            "tags": []
          },
          "execution_count": 12
        }
      ]
    },
    {
      "cell_type": "markdown",
      "metadata": {
        "id": "P_GdZIZoC_TN",
        "colab_type": "text",
        "_uuid": "0aae44536bdba39ed3a6fbb6e05adbfc92813c24"
      },
      "source": [
        "#3) Data Analysis\n",
        "We are going to consider features in our dataset and see how complete they are."
      ]
    },
    {
      "cell_type": "code",
      "metadata": {
        "id": "SBgX9lZpDXXT",
        "colab_type": "code",
        "outputId": "4fc72b3a-420a-44d7-b1f0-d1708ecc2e42",
        "trusted": false,
        "_uuid": "504d155d446ed54845d79e1db1258fbcbdb1d01b",
        "colab": {
          "base_uri": "https://localhost:8080/",
          "height": 69
        }
      },
      "source": [
        "# get a list of features\n",
        "print(train.columns)"
      ],
      "execution_count": 13,
      "outputs": [
        {
          "output_type": "stream",
          "text": [
            "Index(['PassengerId', 'Survived', 'Pclass', 'Name', 'Sex', 'Age', 'SibSp',\n",
            "       'Parch', 'Ticket', 'Fare', 'Cabin', 'Embarked'],\n",
            "      dtype='object')\n"
          ],
          "name": "stdout"
        }
      ]
    },
    {
      "cell_type": "code",
      "metadata": {
        "id": "qDgAt19wDgjx",
        "colab_type": "code",
        "outputId": "f7690aff-55bd-4698-f825-5f35bf7c87e1",
        "trusted": false,
        "_uuid": "e9570926db38d5e9ef56140545b2cb9eb9827d89",
        "colab": {
          "base_uri": "https://localhost:8080/",
          "height": 204
        }
      },
      "source": [
        "#see a sample of the dataset to get an idea of variables\n",
        "train.sample(5)"
      ],
      "execution_count": 14,
      "outputs": [
        {
          "output_type": "execute_result",
          "data": {
            "text/html": [
              "<div>\n",
              "<style scoped>\n",
              "    .dataframe tbody tr th:only-of-type {\n",
              "        vertical-align: middle;\n",
              "    }\n",
              "\n",
              "    .dataframe tbody tr th {\n",
              "        vertical-align: top;\n",
              "    }\n",
              "\n",
              "    .dataframe thead th {\n",
              "        text-align: right;\n",
              "    }\n",
              "</style>\n",
              "<table border=\"1\" class=\"dataframe\">\n",
              "  <thead>\n",
              "    <tr style=\"text-align: right;\">\n",
              "      <th></th>\n",
              "      <th>PassengerId</th>\n",
              "      <th>Survived</th>\n",
              "      <th>Pclass</th>\n",
              "      <th>Name</th>\n",
              "      <th>Sex</th>\n",
              "      <th>Age</th>\n",
              "      <th>SibSp</th>\n",
              "      <th>Parch</th>\n",
              "      <th>Ticket</th>\n",
              "      <th>Fare</th>\n",
              "      <th>Cabin</th>\n",
              "      <th>Embarked</th>\n",
              "    </tr>\n",
              "  </thead>\n",
              "  <tbody>\n",
              "    <tr>\n",
              "      <th>774</th>\n",
              "      <td>775</td>\n",
              "      <td>1</td>\n",
              "      <td>2</td>\n",
              "      <td>Hocking, Mrs. Elizabeth (Eliza Needs)</td>\n",
              "      <td>female</td>\n",
              "      <td>54.0</td>\n",
              "      <td>1</td>\n",
              "      <td>3</td>\n",
              "      <td>29105</td>\n",
              "      <td>23.0000</td>\n",
              "      <td>NaN</td>\n",
              "      <td>S</td>\n",
              "    </tr>\n",
              "    <tr>\n",
              "      <th>841</th>\n",
              "      <td>842</td>\n",
              "      <td>0</td>\n",
              "      <td>2</td>\n",
              "      <td>Mudd, Mr. Thomas Charles</td>\n",
              "      <td>male</td>\n",
              "      <td>16.0</td>\n",
              "      <td>0</td>\n",
              "      <td>0</td>\n",
              "      <td>S.O./P.P. 3</td>\n",
              "      <td>10.5000</td>\n",
              "      <td>NaN</td>\n",
              "      <td>S</td>\n",
              "    </tr>\n",
              "    <tr>\n",
              "      <th>640</th>\n",
              "      <td>641</td>\n",
              "      <td>0</td>\n",
              "      <td>3</td>\n",
              "      <td>Jensen, Mr. Hans Peder</td>\n",
              "      <td>male</td>\n",
              "      <td>20.0</td>\n",
              "      <td>0</td>\n",
              "      <td>0</td>\n",
              "      <td>350050</td>\n",
              "      <td>7.8542</td>\n",
              "      <td>NaN</td>\n",
              "      <td>S</td>\n",
              "    </tr>\n",
              "    <tr>\n",
              "      <th>482</th>\n",
              "      <td>483</td>\n",
              "      <td>0</td>\n",
              "      <td>3</td>\n",
              "      <td>Rouse, Mr. Richard Henry</td>\n",
              "      <td>male</td>\n",
              "      <td>50.0</td>\n",
              "      <td>0</td>\n",
              "      <td>0</td>\n",
              "      <td>A/5 3594</td>\n",
              "      <td>8.0500</td>\n",
              "      <td>NaN</td>\n",
              "      <td>S</td>\n",
              "    </tr>\n",
              "    <tr>\n",
              "      <th>187</th>\n",
              "      <td>188</td>\n",
              "      <td>1</td>\n",
              "      <td>1</td>\n",
              "      <td>Romaine, Mr. Charles Hallace (\"Mr C Rolmane\")</td>\n",
              "      <td>male</td>\n",
              "      <td>45.0</td>\n",
              "      <td>0</td>\n",
              "      <td>0</td>\n",
              "      <td>111428</td>\n",
              "      <td>26.5500</td>\n",
              "      <td>NaN</td>\n",
              "      <td>S</td>\n",
              "    </tr>\n",
              "  </tbody>\n",
              "</table>\n",
              "</div>"
            ],
            "text/plain": [
              "     PassengerId  Survived  Pclass  ...     Fare Cabin  Embarked\n",
              "774          775         1       2  ...  23.0000   NaN         S\n",
              "841          842         0       2  ...  10.5000   NaN         S\n",
              "640          641         0       3  ...   7.8542   NaN         S\n",
              "482          483         0       3  ...   8.0500   NaN         S\n",
              "187          188         1       1  ...  26.5500   NaN         S\n",
              "\n",
              "[5 rows x 12 columns]"
            ]
          },
          "metadata": {
            "tags": []
          },
          "execution_count": 14
        }
      ]
    },
    {
      "cell_type": "markdown",
      "metadata": {
        "id": "92M-_eqAHbQE",
        "colab_type": "text",
        "_uuid": "d766250590ab1854502a2ab13912f44bd5b688b4"
      },
      "source": [
        "-  **Numeical Features:** Age(continuous), Fare(Continuous) SibSp(Discrete), Parch(Discrete)\n",
        "-  **Categorical Features:** Survived,Sex,Embarked,Pclass\n",
        "-  **Alphanumeric Features:** Tickets,Cabin"
      ]
    },
    {
      "cell_type": "markdown",
      "metadata": {
        "id": "Eb9b6lbu7pBZ",
        "colab_type": "text",
        "_uuid": "0dc464d7e40d5ceeead08bd06c3e8b42c4d257b3"
      },
      "source": [
        "##Sex Feature"
      ]
    },
    {
      "cell_type": "code",
      "metadata": {
        "id": "LxaXFJgS7s35",
        "colab_type": "code",
        "outputId": "35416e08-535a-4f46-f739-bfc59948175d",
        "trusted": false,
        "_uuid": "3dacf11ad7e2d819ea76ba390414b52cdcd6ec99",
        "colab": {
          "base_uri": "https://localhost:8080/",
          "height": 314
        }
      },
      "source": [
        "#draw a bar plot of survival by sex\n",
        "sns.barplot(x= 'Sex',y='Survived',data=train)\n",
        "\n",
        "#print % of female vs. male that survived\n",
        "print('Percentage of female who survived:',train['Survived'][train['Sex'] == 'female'].value_counts(normalize = True)[1]*100)\n",
        "\n",
        "print('Percentage of male who survived:',train['Survived'][train['Sex'] == 'male'].value_counts(normalize = True)[1]*100)"
      ],
      "execution_count": 15,
      "outputs": [
        {
          "output_type": "stream",
          "text": [
            "Percentage of female who survived: 74.20382165605095\n",
            "Percentage of male who survived: 18.890814558058924\n"
          ],
          "name": "stdout"
        },
        {
          "output_type": "display_data",
          "data": {
            "image/png": "[encoded data removed]",
            "text/plain": [
              "<Figure size 432x288 with 1 Axes>"
            ]
          },
          "metadata": {
            "tags": [],
            "needs_background": "light"
          }
        }
      ]
    },
    {
      "cell_type": "markdown",
      "metadata": {
        "id": "n1de_hyZCEKM",
        "colab_type": "text",
        "_uuid": "3d20d4933f5b51ff6be0b87388cabd08bf363b7a"
      },
      "source": [
        "So, Female have a much higher chance of survival than males. The Sex feature is essential in our prediction."
      ]
    },
    {
      "cell_type": "markdown",
      "metadata": {
        "id": "1TcfFrriCnbX",
        "colab_type": "text",
        "_uuid": "9f745206d011fb1791343503379568ed8a3316c1"
      },
      "source": [
        "##Pclass Feature"
      ]
    },
    {
      "cell_type": "code",
      "metadata": {
        "id": "lbQ2aj_5CrUy",
        "colab_type": "code",
        "outputId": "4a3c963f-d991-496a-eeb7-e14856bd1a74",
        "trusted": false,
        "_uuid": "1fffafad0dab812c4cd40be4b30c55480239a54b",
        "colab": {
          "base_uri": "https://localhost:8080/",
          "height": 331
        }
      },
      "source": [
        "#draw a bar plot of survival by Pclass\n",
        "sns.barplot(x='Pclass', y='Survived',data=train)\n",
        "\n",
        "# Percentage of people that survived by Pclass\n",
        "#class 1 = Upper\n",
        "print('petcentage of Pclass=1 who survived:', train['Survived'][train['Pclass'] == 1].value_counts(normalize=True)[1]*100)\n",
        "\n",
        "#class 2 = Middle\n",
        "print('petcentage of Pclass=2 who survived:', train['Survived'][train['Pclass'] == 2].value_counts(normalize=True)[1]*100)\n",
        "\n",
        "#class 3 = Lower\n",
        "print('petcentage of Pclass=3 who survived:', train['Survived'][train['Pclass'] == 3].value_counts(normalize=True)[1]*100)"
      ],
      "execution_count": 16,
      "outputs": [
        {
          "output_type": "stream",
          "text": [
            "petcentage of Pclass=1 who survived: 62.96296296296296\n",
            "petcentage of Pclass=2 who survived: 47.28260869565217\n",
            "petcentage of Pclass=3 who survived: 24.236252545824847\n"
          ],
          "name": "stdout"
        },
        {
          "output_type": "display_data",
          "data": {
            "image/png": "[encoded data removed]",
            "text/plain": [
              "<Figure size 432x288 with 1 Axes>"
            ]
          },
          "metadata": {
            "tags": [],
            "needs_background": "light"
          }
        }
      ]
    },
    {
      "cell_type": "markdown",
      "metadata": {
        "id": "H16NLyBWEvPN",
        "colab_type": "text",
        "_uuid": "0358d92017fb364e0c0e3591009d60cd9a8d44f8"
      },
      "source": [
        "People with higher socio-economic class had a higher rate of survival. Z"
      ]
    },
    {
      "cell_type": "markdown",
      "metadata": {
        "id": "k0CQVdkPX9U7",
        "colab_type": "text",
        "_uuid": "a7e23c52fd8132a6de46ab303a0ac5de63a73399"
      },
      "source": [
        "##SibSp Feature"
      ]
    },
    {
      "cell_type": "code",
      "metadata": {
        "id": "UlHnDam-YChI",
        "colab_type": "code",
        "outputId": "7bceca15-cbef-41d5-8668-1f2c67e4e594",
        "trusted": false,
        "_uuid": "c561ed1c6cecf511b164a6e743e693c3faf2f8fa",
        "colab": {
          "base_uri": "https://localhost:8080/",
          "height": 366
        }
      },
      "source": [
        "#draw a bar plot for SibSp vs. Survival\n",
        "sns.barplot(x='SibSp',y='Survived',data=train)\n",
        "\n",
        "# The percentage of people survived\n",
        "print(\"Percentage of SibSp = 0 who suvived:\",train['Survived'][train['SibSp']==0].value_counts(normalize=True)[1]*100)\n",
        "\n",
        "print(\"Percentage of SibSp = 1 who suvived:\",train['Survived'][train['SibSp']==1].value_counts(normalize=True)[1]*100)\n",
        "\n",
        "print(\"Percentage of SibSp = 2 who suvived:\",train['Survived'][train['SibSp']==2].value_counts(normalize=True)[1]*100)\n",
        "\n",
        "print(\"Percentage of SibSp = 3 who suvived:\",train['Survived'][train['SibSp']==3].value_counts(normalize=True)[1]*100)\n",
        "\n",
        "print(\"Percentage of SibSp = 4 who suvived:\",train['Survived'][train['SibSp']==4].value_counts(normalize=True)[1]*100)"
      ],
      "execution_count": 17,
      "outputs": [
        {
          "output_type": "stream",
          "text": [
            "Percentage of SibSp = 0 who suvived: 34.53947368421053\n",
            "Percentage of SibSp = 1 who suvived: 53.588516746411486\n",
            "Percentage of SibSp = 2 who suvived: 46.42857142857143\n",
            "Percentage of SibSp = 3 who suvived: 25.0\n",
            "Percentage of SibSp = 4 who suvived: 16.666666666666664\n"
          ],
          "name": "stdout"
        },
        {
          "output_type": "display_data",
          "data": {
            "image/png": "[encoded data removed]",
            "text/plain": [
              "<Figure size 432x288 with 1 Axes>"
            ]
          },
          "metadata": {
            "tags": [],
            "needs_background": "light"
          }
        }
      ]
    },
    {
      "cell_type": "markdown",
      "metadata": {
        "id": "TBIvrNabbF4y",
        "colab_type": "text",
        "_uuid": "a7109eaba3d1116221c682c026b068bcb0187c4d"
      },
      "source": [
        "In general, those with more siblings or spouses aboard were less likely to survive. However, people with no sibling or spouses were less likely to survive than those with one or two."
      ]
    },
    {
      "cell_type": "markdown",
      "metadata": {
        "id": "Xsno8bWbbjZn",
        "colab_type": "text",
        "_uuid": "e2b1d5bd42ef0fbd69ae5159fe17dcae7e334d01"
      },
      "source": [
        "##Parch Feature"
      ]
    },
    {
      "cell_type": "code",
      "metadata": {
        "id": "9xTaZbZRbm_4",
        "colab_type": "code",
        "outputId": "a2b6c5e8-912f-4b16-cadf-1b0280898ceb",
        "trusted": false,
        "_uuid": "8673d1aa4f560dbe9ad92b1058c00549829b6ca8",
        "colab": {
          "base_uri": "https://localhost:8080/",
          "height": 296
        }
      },
      "source": [
        "#draw a bar plot for parch vs.survival\n",
        "sns.barplot(x='Parch',y='Survived',data=train)"
      ],
      "execution_count": 18,
      "outputs": [
        {
          "output_type": "execute_result",
          "data": {
            "text/plain": [
              "<matplotlib.axes._subplots.AxesSubplot at 0x7fa7f9bae550>"
            ]
          },
          "metadata": {
            "tags": []
          },
          "execution_count": 18
        },
        {
          "output_type": "display_data",
          "data": {
            "image/png": "[encoded data removed]",
            "text/plain": [
              "<Figure size 432x288 with 1 Axes>"
            ]
          },
          "metadata": {
            "tags": [],
            "needs_background": "light"
          }
        }
      ]
    },
    {
      "cell_type": "markdown",
      "metadata": {
        "id": "aE0XW4mzcE4Y",
        "colab_type": "text",
        "_uuid": "83e8075bfcddae039fc0732bb4081e8164b28ce8"
      },
      "source": [
        "People with less than four parents or children aboard are more likely to survive than those with four or more. Again, people with no parents or children are less likely to survive than those with 1-3 parent or children"
      ]
    },
    {
      "cell_type": "markdown",
      "metadata": {
        "id": "o9BgQZDZc11F",
        "colab_type": "text",
        "_uuid": "643ba658c4fe3a98094b2c8f0a4df6ddaf03c2d3"
      },
      "source": [
        "##Age Feature"
      ]
    },
    {
      "cell_type": "code",
      "metadata": {
        "id": "AvU6ds5ag9eG",
        "colab_type": "code",
        "outputId": "8e37f714-60e0-4335-ce72-7f2b89ac6d2b",
        "trusted": false,
        "_uuid": "65fa1d391d535412ec5d133834f44f8c87f2165d",
        "colab": {
          "base_uri": "https://localhost:8080/",
          "height": 296
        }
      },
      "source": [
        "#sort the ages into logical categories\n",
        "#train[\"Age\"] = train[\"Age\"].fillna(-0.5)\n",
        "#test[\"Age\"] = test[\"Age\"].fillna(-0.5)\n",
        "bins = [-1, 0, 5, 12, 18, 24, 35, 60, np.inf]\n",
        "labels = ['Unknown', 'Baby', 'Child', 'Teenager', 'Student', 'Young adult', 'Adult', 'Elderly']\n",
        "train['AgeGroup'] = pd.cut(train[\"Age\"], bins, labels = labels)\n",
        "test['AgeGroup'] = pd.cut(test[\"Age\"], bins, labels = labels)\n",
        "\n",
        "# Draw a bar plot for age vs. survival\n",
        "sns.barplot(x='AgeGroup',y='Survived',data=train)"
      ],
      "execution_count": 19,
      "outputs": [
        {
          "output_type": "execute_result",
          "data": {
            "text/plain": [
              "<matplotlib.axes._subplots.AxesSubplot at 0x7fa7f809f0f0>"
            ]
          },
          "metadata": {
            "tags": []
          },
          "execution_count": 19
        },
        {
          "output_type": "display_data",
          "data": {
            "image/png": "[encoded data removed]",
            "text/plain": [
              "<Figure size 432x288 with 1 Axes>"
            ]
          },
          "metadata": {
            "tags": [],
            "needs_background": "light"
          }
        }
      ]
    },
    {
      "cell_type": "markdown",
      "metadata": {
        "id": "zv2XClNXjhR0",
        "colab_type": "text",
        "_uuid": "37ef0631ac8c3655f82ca41230020727e2c855de"
      },
      "source": [
        "Babies are more likely to survive than any other group"
      ]
    },
    {
      "cell_type": "markdown",
      "metadata": {
        "id": "mURBpCFqjnrE",
        "colab_type": "text",
        "_uuid": "766180a34885987f648e1ec9a8491dbd1d6337b8"
      },
      "source": [
        "##Cabin Feature"
      ]
    },
    {
      "cell_type": "code",
      "metadata": {
        "id": "CwpBOZaDjq4z",
        "colab_type": "code",
        "outputId": "938d126e-a0a2-44d8-aa85-a86c008d62c1",
        "trusted": false,
        "_uuid": "f10445595ef0991b2d919277c989e9f3fa047e09",
        "colab": {
          "base_uri": "https://localhost:8080/",
          "height": 314
        }
      },
      "source": [
        "# to convert the alphanum values to integer for ploting\n",
        "train['CabinBool'] = train['Cabin'].notnull().astype('int')\n",
        "test['CabinBool'] = test['Cabin'].notnull().astype('int')\n",
        "\n",
        "sns.barplot(x='CabinBool', y='Survived', data=train )\n",
        "\n",
        "# Calculate percentage of CabinBool vs. Survived\n",
        "print('percentage of CabinBool = 1 who survived:',train['Survived'][train['CabinBool']==1].value_counts(normalize=True)[1]*100)\n",
        "\n",
        "print('percentage of CabinBool = 0 who survived:',train['Survived'][train['CabinBool']==0].value_counts(normalize=True)[1]*100)\n"
      ],
      "execution_count": 20,
      "outputs": [
        {
          "output_type": "stream",
          "text": [
            "percentage of CabinBool = 1 who survived: 66.66666666666666\n",
            "percentage of CabinBool = 0 who survived: 29.985443959243085\n"
          ],
          "name": "stdout"
        },
        {
          "output_type": "display_data",
          "data": {
            "image/png": "[encoded data removed]",
            "text/plain": [
              "<Figure size 432x288 with 1 Axes>"
            ]
          },
          "metadata": {
            "tags": [],
            "needs_background": "light"
          }
        }
      ]
    },
    {
      "cell_type": "markdown",
      "metadata": {
        "id": "0Jt4jLg3wYZp",
        "colab_type": "text",
        "_uuid": "cb3e1dee04ea025aae7f4f433817ef399ce0116d"
      },
      "source": [
        "People with a recorded Cabin number are more likely to survive."
      ]
    },
    {
      "cell_type": "markdown",
      "metadata": {
        "id": "ZHO4zTOgvanm",
        "colab_type": "text",
        "_uuid": "45e79b1aab574beae84db5fa8cdc9f33079ae054"
      },
      "source": [
        "##Embarked Feature"
      ]
    },
    {
      "cell_type": "code",
      "metadata": {
        "id": "MjHPWFeOkpnV",
        "colab_type": "code",
        "outputId": "64832dc6-57f9-4a87-a5d1-331c81245aad",
        "trusted": false,
        "_uuid": "ec571e48a53cf823acf7fad5536d5321fe24f945",
        "colab": {
          "base_uri": "https://localhost:8080/",
          "height": 331
        }
      },
      "source": [
        "# Draw a bar plot of port of embarkment vs. survival\n",
        "sns.barplot(x='Embarked', y='Survived', data=train )\n",
        "\n",
        "# Calculate percentage of CabinBool vs. Survived\n",
        "print('percentage of Embarked = S who survived:',train['Survived'][train['Embarked']=='S'].value_counts(normalize=True)[1]*100)\n",
        "\n",
        "\n",
        "print('percentage of Embarked = C who survived:',train['Survived'][train['Embarked']=='C'].value_counts(normalize=True)[1]*100)\n",
        "      \n",
        "      \n",
        "print('percentage of Embarked = Q who survived:',train['Survived'][train['Embarked']=='Q'].value_counts(normalize=True)[1]*100)"
      ],
      "execution_count": 21,
      "outputs": [
        {
          "output_type": "stream",
          "text": [
            "percentage of Embarked = S who survived: 33.69565217391305\n",
            "percentage of Embarked = C who survived: 55.35714285714286\n",
            "percentage of Embarked = Q who survived: 38.961038961038966\n"
          ],
          "name": "stdout"
        },
        {
          "output_type": "display_data",
          "data": {
            "image/png": "[encoded data removed]",
            "text/plain": [
              "<Figure size 432x288 with 1 Axes>"
            ]
          },
          "metadata": {
            "tags": [],
            "needs_background": "light"
          }
        }
      ]
    },
    {
      "cell_type": "markdown",
      "metadata": {
        "id": "icVMARbkv9Ig",
        "colab_type": "text",
        "_uuid": "8c65331f2fa080390a81938e15af082da9602cfa"
      },
      "source": [
        "So people who boarded from C = Cherbourg are more likely to survive than people from  Q = Queenstown, S = Southampton."
      ]
    },
    {
      "cell_type": "markdown",
      "metadata": {
        "id": "meASBpPxx8JY",
        "colab_type": "text",
        "_uuid": "b27d4cfcb17c88df9491132ba89f8907019c4424"
      },
      "source": [
        "#5) Cleaning Data\n",
        "Now we will clean our data to account for missing values."
      ]
    },
    {
      "cell_type": "markdown",
      "metadata": {
        "id": "tTT1mQbKyM_W",
        "colab_type": "text",
        "_uuid": "cdd9e3ed716419a09d4b84aa99e5e7f6382f42d0"
      },
      "source": [
        "##Looking at the test data\n",
        "Let's see how our test data look"
      ]
    },
    {
      "cell_type": "code",
      "metadata": {
        "id": "tTrCy2AQybUk",
        "colab_type": "code",
        "outputId": "7b04c398-09ee-4f98-cf15-d84fdfef8950",
        "trusted": false,
        "_uuid": "e60f5c8cbac738bdb4d51e6c8de16cb2f19198d0",
        "colab": {
          "base_uri": "https://localhost:8080/",
          "height": 168
        }
      },
      "source": [
        "test.describe(include='all')"
      ],
      "execution_count": 1,
      "outputs": [
        {
          "output_type": "error",
          "ename": "NameError",
          "evalue": "ignored",
          "traceback": [
            "\u001b[0;31m---------------------------------------------------------------------------\u001b[0m",
            "\u001b[0;31mNameError\u001b[0m                                 Traceback (most recent call last)",
            "\u001b[0;32m<ipython-input-1-063924ea3a81>\u001b[0m in \u001b[0;36m<module>\u001b[0;34m()\u001b[0m\n\u001b[0;32m----> 1\u001b[0;31m \u001b[0mtest\u001b[0m\u001b[0;34m.\u001b[0m\u001b[0mdescribe\u001b[0m\u001b[0;34m(\u001b[0m\u001b[0minclude\u001b[0m\u001b[0;34m=\u001b[0m\u001b[0;34m'all'\u001b[0m\u001b[0;34m)\u001b[0m\u001b[0;34m\u001b[0m\u001b[0;34m\u001b[0m\u001b[0m\n\u001b[0m",
            "\u001b[0;31mNameError\u001b[0m: name 'test' is not defined"
          ]
        }
      ]
    },
    {
      "cell_type": "markdown",
      "metadata": {
        "id": "gi38-attyrof",
        "colab_type": "text",
        "_uuid": "8cc72841759ad3099d797395272ab386634dde80"
      },
      "source": [
        "\n",
        "\n",
        "*   We have a total of 418 pasengers.\n",
        "*   1 value from the Fare feature is missing.\n",
        "*    Around 78..2% of Cabin Feature is missing, we need to fill that in.\n",
        "\n"
      ]
    },
    {
      "cell_type": "markdown",
      "metadata": {
        "id": "Je4fpxRIzqvM",
        "colab_type": "text",
        "_uuid": "27e6d1a735c2472bd747843a0d6407d25e9c5ee5"
      },
      "source": [
        "##Ticket Feature"
      ]
    },
    {
      "cell_type": "code",
      "metadata": {
        "id": "QDkGH5y8z0XS",
        "colab_type": "code",
        "trusted": false,
        "_uuid": "25961716ec7e4afef1dfb613ca6369a277b2f8eb",
        "colab": {}
      },
      "source": [
        "# we can drop the Ticket feature since it's unlikely to yeild any useful information\n",
        "train.drop(['Ticket'], axis = 1, inplace=True)\n",
        "test.drop(['Ticket'], axis=1, inplace=True)"
      ],
      "execution_count": 0,
      "outputs": []
    },
    {
      "cell_type": "markdown",
      "metadata": {
        "id": "AXo5OiMk3123",
        "colab_type": "text",
        "_uuid": "751b0e2de1550c7f87a3d43fe3aa17a8cc7edd1e"
      },
      "source": [
        "##Embarked Feature"
      ]
    },
    {
      "cell_type": "code",
      "metadata": {
        "id": "6siMr9I73vxl",
        "colab_type": "code",
        "outputId": "95465517-ed92-47d8-91b8-ac4962b84343",
        "trusted": false,
        "_uuid": "5bc4064c48295d93907715c4d3211f44504964bf",
        "colab": {
          "base_uri": "https://localhost:8080/",
          "height": 122
        }
      },
      "source": [
        " #now we need to fill in the missing value in the embarked feature\n",
        "print(\"Number of People embarking in Southampton(S):\")\n",
        "southampton = train[train['Embarked']== 'S'].shape[0]\n",
        "print(southampton)\n",
        "  \n",
        "print(\"Number of People embarking in Cherbourg(C):\")\n",
        "cherbourg = train[train['Embarked']== 'C'].shape[0]\n",
        "print(cherbourg)\n",
        "        \n",
        "print(\"Number of People embarking in Queenstown(Q):\")\n",
        "queenstown = train[train['Embarked']== 'Q'].shape[0]\n",
        "print(queenstown)"
      ],
      "execution_count": 24,
      "outputs": [
        {
          "output_type": "stream",
          "text": [
            "Number of People embarking in Southampton(S):\n",
            "644\n",
            "Number of People embarking in Cherbourg(C):\n",
            "168\n",
            "Number of People embarking in Queenstown(Q):\n",
            "77\n"
          ],
          "name": "stdout"
        }
      ]
    },
    {
      "cell_type": "markdown",
      "metadata": {
        "id": "69KNaVr55WjU",
        "colab_type": "text",
        "_uuid": "8f254c06054f390adc157e8b696cf04f8331fe20"
      },
      "source": [
        "So its clear that majority of people embarked from southampton. Let's fill the missing values with S."
      ]
    },
    {
      "cell_type": "code",
      "metadata": {
        "id": "eDYWVBZn5nEQ",
        "colab_type": "code",
        "trusted": false,
        "_uuid": "30d1217f8ca288ae2626c871258e5a692319ba84",
        "colab": {}
      },
      "source": [
        "#replacing the missing values in the embarked feature with s\n",
        "train = train.fillna({\"Embarked\":\"S\"})"
      ],
      "execution_count": 0,
      "outputs": []
    },
    {
      "cell_type": "markdown",
      "metadata": {
        "id": "DXHMUL9t_D-f",
        "colab_type": "text",
        "_uuid": "b8e90e0a20f3754aeed738ffbc8de6ff3b56fb32"
      },
      "source": [
        "##Age Feature\n",
        "\n",
        "Next we'll fill in the missing values in age feature. Since a higher percemtage of values are missing, it would be illogical to fill all of them with the same value(as we did with embarked). Instead, let's try to find a way to pridict the missing age."
      ]
    },
    {
      "cell_type": "markdown",
      "metadata": {
        "id": "3e-I9ihUBDXM",
        "colab_type": "text",
        "_uuid": "734d115e70621b7630fae385829952547efbe24a"
      },
      "source": [
        "First we will get the title of passenger from there name. then, we will try to map then into certain age group."
      ]
    },
    {
      "cell_type": "code",
      "metadata": {
        "id": "4t34D76__qPe",
        "colab_type": "code",
        "outputId": "6c3bfafc-2286-4917-82ad-df6e03a29834",
        "trusted": false,
        "_uuid": "e91521c48f64cce6690ec02a20fbd5e2ffa17ea7",
        "colab": {
          "base_uri": "https://localhost:8080/",
          "height": 607
        }
      },
      "source": [
        "# create a combined group of both dataset\n",
        "combine = [train, test]\n",
        "\n",
        "#extract a title for each Name in the train and test datasets\n",
        "for dataset in combine:\n",
        "  dataset['Title'] = dataset.Name.str.extract('([A-Za-z]+)\\.',expand=False)\n",
        "pd.crosstab(train['Title'], train['Sex'])"
      ],
      "execution_count": 26,
      "outputs": [
        {
          "output_type": "execute_result",
          "data": {
            "text/html": [
              "<div>\n",
              "<style scoped>\n",
              "    .dataframe tbody tr th:only-of-type {\n",
              "        vertical-align: middle;\n",
              "    }\n",
              "\n",
              "    .dataframe tbody tr th {\n",
              "        vertical-align: top;\n",
              "    }\n",
              "\n",
              "    .dataframe thead th {\n",
              "        text-align: right;\n",
              "    }\n",
              "</style>\n",
              "<table border=\"1\" class=\"dataframe\">\n",
              "  <thead>\n",
              "    <tr style=\"text-align: right;\">\n",
              "      <th>Sex</th>\n",
              "      <th>female</th>\n",
              "      <th>male</th>\n",
              "    </tr>\n",
              "    <tr>\n",
              "      <th>Title</th>\n",
              "      <th></th>\n",
              "      <th></th>\n",
              "    </tr>\n",
              "  </thead>\n",
              "  <tbody>\n",
              "    <tr>\n",
              "      <th>Capt</th>\n",
              "      <td>0</td>\n",
              "      <td>1</td>\n",
              "    </tr>\n",
              "    <tr>\n",
              "      <th>Col</th>\n",
              "      <td>0</td>\n",
              "      <td>2</td>\n",
              "    </tr>\n",
              "    <tr>\n",
              "      <th>Countess</th>\n",
              "      <td>1</td>\n",
              "      <td>0</td>\n",
              "    </tr>\n",
              "    <tr>\n",
              "      <th>Don</th>\n",
              "      <td>0</td>\n",
              "      <td>1</td>\n",
              "    </tr>\n",
              "    <tr>\n",
              "      <th>Dr</th>\n",
              "      <td>1</td>\n",
              "      <td>6</td>\n",
              "    </tr>\n",
              "    <tr>\n",
              "      <th>Jonkheer</th>\n",
              "      <td>0</td>\n",
              "      <td>1</td>\n",
              "    </tr>\n",
              "    <tr>\n",
              "      <th>Lady</th>\n",
              "      <td>1</td>\n",
              "      <td>0</td>\n",
              "    </tr>\n",
              "    <tr>\n",
              "      <th>Major</th>\n",
              "      <td>0</td>\n",
              "      <td>2</td>\n",
              "    </tr>\n",
              "    <tr>\n",
              "      <th>Master</th>\n",
              "      <td>0</td>\n",
              "      <td>40</td>\n",
              "    </tr>\n",
              "    <tr>\n",
              "      <th>Miss</th>\n",
              "      <td>182</td>\n",
              "      <td>0</td>\n",
              "    </tr>\n",
              "    <tr>\n",
              "      <th>Mlle</th>\n",
              "      <td>2</td>\n",
              "      <td>0</td>\n",
              "    </tr>\n",
              "    <tr>\n",
              "      <th>Mme</th>\n",
              "      <td>1</td>\n",
              "      <td>0</td>\n",
              "    </tr>\n",
              "    <tr>\n",
              "      <th>Mr</th>\n",
              "      <td>0</td>\n",
              "      <td>517</td>\n",
              "    </tr>\n",
              "    <tr>\n",
              "      <th>Mrs</th>\n",
              "      <td>125</td>\n",
              "      <td>0</td>\n",
              "    </tr>\n",
              "    <tr>\n",
              "      <th>Ms</th>\n",
              "      <td>1</td>\n",
              "      <td>0</td>\n",
              "    </tr>\n",
              "    <tr>\n",
              "      <th>Rev</th>\n",
              "      <td>0</td>\n",
              "      <td>6</td>\n",
              "    </tr>\n",
              "    <tr>\n",
              "      <th>Sir</th>\n",
              "      <td>0</td>\n",
              "      <td>1</td>\n",
              "    </tr>\n",
              "  </tbody>\n",
              "</table>\n",
              "</div>"
            ],
            "text/plain": [
              "Sex       female  male\n",
              "Title                 \n",
              "Capt           0     1\n",
              "Col            0     2\n",
              "Countess       1     0\n",
              "Don            0     1\n",
              "Dr             1     6\n",
              "Jonkheer       0     1\n",
              "Lady           1     0\n",
              "Major          0     2\n",
              "Master         0    40\n",
              "Miss         182     0\n",
              "Mlle           2     0\n",
              "Mme            1     0\n",
              "Mr             0   517\n",
              "Mrs          125     0\n",
              "Ms             1     0\n",
              "Rev            0     6\n",
              "Sir            0     1"
            ]
          },
          "metadata": {
            "tags": []
          },
          "execution_count": 26
        }
      ]
    },
    {
      "cell_type": "code",
      "metadata": {
        "id": "Rxvy_eu9CIme",
        "colab_type": "code",
        "outputId": "56e5d210-a198-4729-b31e-dc68aa4c1ef4",
        "trusted": false,
        "_uuid": "22945af66579f9a938380feb8490d5fd033e7a1a",
        "colab": {
          "base_uri": "https://localhost:8080/",
          "height": 235
        }
      },
      "source": [
        "# Replace various titles with more common names\n",
        "for dataset in combine:\n",
        "  dataset['Title'] = dataset['Title'].replace(['Capt','Col','Don','Dr','Major','Rev','Jonkheer','Dona'],'Rare')\n",
        "  dataset['Title'] = dataset['Title'].replace(['Countess','Lady','Sir'],'Royal')\n",
        "  dataset['Title'] = dataset['Title'].replace(['Mlle','Ms'],'Miss')\n",
        "  dataset['Title'] = dataset['Title'].replace('Mme','Mrs')\n",
        "\n",
        "train[['Title', 'Survived']].groupby(['Title'], as_index=False).mean()  \n",
        "  \n",
        "  "
      ],
      "execution_count": 27,
      "outputs": [
        {
          "output_type": "execute_result",
          "data": {
            "text/html": [
              "<div>\n",
              "<style scoped>\n",
              "    .dataframe tbody tr th:only-of-type {\n",
              "        vertical-align: middle;\n",
              "    }\n",
              "\n",
              "    .dataframe tbody tr th {\n",
              "        vertical-align: top;\n",
              "    }\n",
              "\n",
              "    .dataframe thead th {\n",
              "        text-align: right;\n",
              "    }\n",
              "</style>\n",
              "<table border=\"1\" class=\"dataframe\">\n",
              "  <thead>\n",
              "    <tr style=\"text-align: right;\">\n",
              "      <th></th>\n",
              "      <th>Title</th>\n",
              "      <th>Survived</th>\n",
              "    </tr>\n",
              "  </thead>\n",
              "  <tbody>\n",
              "    <tr>\n",
              "      <th>0</th>\n",
              "      <td>Master</td>\n",
              "      <td>0.575000</td>\n",
              "    </tr>\n",
              "    <tr>\n",
              "      <th>1</th>\n",
              "      <td>Miss</td>\n",
              "      <td>0.702703</td>\n",
              "    </tr>\n",
              "    <tr>\n",
              "      <th>2</th>\n",
              "      <td>Mr</td>\n",
              "      <td>0.156673</td>\n",
              "    </tr>\n",
              "    <tr>\n",
              "      <th>3</th>\n",
              "      <td>Mrs</td>\n",
              "      <td>0.793651</td>\n",
              "    </tr>\n",
              "    <tr>\n",
              "      <th>4</th>\n",
              "      <td>Rare</td>\n",
              "      <td>0.250000</td>\n",
              "    </tr>\n",
              "    <tr>\n",
              "      <th>5</th>\n",
              "      <td>Royal</td>\n",
              "      <td>1.000000</td>\n",
              "    </tr>\n",
              "  </tbody>\n",
              "</table>\n",
              "</div>"
            ],
            "text/plain": [
              "    Title  Survived\n",
              "0  Master  0.575000\n",
              "1    Miss  0.702703\n",
              "2      Mr  0.156673\n",
              "3     Mrs  0.793651\n",
              "4    Rare  0.250000\n",
              "5   Royal  1.000000"
            ]
          },
          "metadata": {
            "tags": []
          },
          "execution_count": 27
        }
      ]
    },
    {
      "cell_type": "code",
      "metadata": {
        "id": "l3B8JUq2E1Hd",
        "colab_type": "code",
        "outputId": "1c7443a8-ac5e-4479-e5a7-c266e4f298b1",
        "trusted": false,
        "_uuid": "1f8ea9224f6a35f34798a148c676726103a30c69",
        "colab": {
          "base_uri": "https://localhost:8080/",
          "height": 204
        }
      },
      "source": [
        "# Map each title to a numerical number\n",
        "title_mapping = {'Mr':1, 'Miss':2, 'Mrs':3, 'Master':4, 'Royal':5, 'Rare':6}\n",
        "for dataset in combine:\n",
        "  dataset['Title'] = dataset['Title'].map(title_mapping)\n",
        "  dataset['Title'] = dataset['Title'].fillna(0)\n",
        "\n",
        "train.head()"
      ],
      "execution_count": 28,
      "outputs": [
        {
          "output_type": "execute_result",
          "data": {
            "text/html": [
              "<div>\n",
              "<style scoped>\n",
              "    .dataframe tbody tr th:only-of-type {\n",
              "        vertical-align: middle;\n",
              "    }\n",
              "\n",
              "    .dataframe tbody tr th {\n",
              "        vertical-align: top;\n",
              "    }\n",
              "\n",
              "    .dataframe thead th {\n",
              "        text-align: right;\n",
              "    }\n",
              "</style>\n",
              "<table border=\"1\" class=\"dataframe\">\n",
              "  <thead>\n",
              "    <tr style=\"text-align: right;\">\n",
              "      <th></th>\n",
              "      <th>PassengerId</th>\n",
              "      <th>Survived</th>\n",
              "      <th>Pclass</th>\n",
              "      <th>Name</th>\n",
              "      <th>Sex</th>\n",
              "      <th>Age</th>\n",
              "      <th>SibSp</th>\n",
              "      <th>Parch</th>\n",
              "      <th>Fare</th>\n",
              "      <th>Cabin</th>\n",
              "      <th>Embarked</th>\n",
              "      <th>AgeGroup</th>\n",
              "      <th>CabinBool</th>\n",
              "      <th>Title</th>\n",
              "    </tr>\n",
              "  </thead>\n",
              "  <tbody>\n",
              "    <tr>\n",
              "      <th>0</th>\n",
              "      <td>1</td>\n",
              "      <td>0</td>\n",
              "      <td>3</td>\n",
              "      <td>Braund, Mr. Owen Harris</td>\n",
              "      <td>male</td>\n",
              "      <td>22.0</td>\n",
              "      <td>1</td>\n",
              "      <td>0</td>\n",
              "      <td>7.2500</td>\n",
              "      <td>NaN</td>\n",
              "      <td>S</td>\n",
              "      <td>Student</td>\n",
              "      <td>0</td>\n",
              "      <td>1</td>\n",
              "    </tr>\n",
              "    <tr>\n",
              "      <th>1</th>\n",
              "      <td>2</td>\n",
              "      <td>1</td>\n",
              "      <td>1</td>\n",
              "      <td>Cumings, Mrs. John Bradley (Florence Briggs Th...</td>\n",
              "      <td>female</td>\n",
              "      <td>38.0</td>\n",
              "      <td>1</td>\n",
              "      <td>0</td>\n",
              "      <td>71.2833</td>\n",
              "      <td>C85</td>\n",
              "      <td>C</td>\n",
              "      <td>Adult</td>\n",
              "      <td>1</td>\n",
              "      <td>3</td>\n",
              "    </tr>\n",
              "    <tr>\n",
              "      <th>2</th>\n",
              "      <td>3</td>\n",
              "      <td>1</td>\n",
              "      <td>3</td>\n",
              "      <td>Heikkinen, Miss. Laina</td>\n",
              "      <td>female</td>\n",
              "      <td>26.0</td>\n",
              "      <td>0</td>\n",
              "      <td>0</td>\n",
              "      <td>7.9250</td>\n",
              "      <td>NaN</td>\n",
              "      <td>S</td>\n",
              "      <td>Young adult</td>\n",
              "      <td>0</td>\n",
              "      <td>2</td>\n",
              "    </tr>\n",
              "    <tr>\n",
              "      <th>3</th>\n",
              "      <td>4</td>\n",
              "      <td>1</td>\n",
              "      <td>1</td>\n",
              "      <td>Futrelle, Mrs. Jacques Heath (Lily May Peel)</td>\n",
              "      <td>female</td>\n",
              "      <td>35.0</td>\n",
              "      <td>1</td>\n",
              "      <td>0</td>\n",
              "      <td>53.1000</td>\n",
              "      <td>C123</td>\n",
              "      <td>S</td>\n",
              "      <td>Young adult</td>\n",
              "      <td>1</td>\n",
              "      <td>3</td>\n",
              "    </tr>\n",
              "    <tr>\n",
              "      <th>4</th>\n",
              "      <td>5</td>\n",
              "      <td>0</td>\n",
              "      <td>3</td>\n",
              "      <td>Allen, Mr. William Henry</td>\n",
              "      <td>male</td>\n",
              "      <td>35.0</td>\n",
              "      <td>0</td>\n",
              "      <td>0</td>\n",
              "      <td>8.0500</td>\n",
              "      <td>NaN</td>\n",
              "      <td>S</td>\n",
              "      <td>Young adult</td>\n",
              "      <td>0</td>\n",
              "      <td>1</td>\n",
              "    </tr>\n",
              "  </tbody>\n",
              "</table>\n",
              "</div>"
            ],
            "text/plain": [
              "   PassengerId  Survived  Pclass  ...     AgeGroup CabinBool  Title\n",
              "0            1         0       3  ...      Student         0      1\n",
              "1            2         1       1  ...        Adult         1      3\n",
              "2            3         1       3  ...  Young adult         0      2\n",
              "3            4         1       1  ...  Young adult         1      3\n",
              "4            5         0       3  ...  Young adult         0      1\n",
              "\n",
              "[5 rows x 14 columns]"
            ]
          },
          "metadata": {
            "tags": []
          },
          "execution_count": 28
        }
      ]
    },
    {
      "cell_type": "code",
      "metadata": {
        "id": "OWvOfKLdyCmg",
        "colab_type": "code",
        "outputId": "bbfd7f0a-f0e0-4b5a-e4b3-cdf27b2661a1",
        "trusted": false,
        "_uuid": "8fad395374cbaabfcc06a84424430ddcb70bf1ee",
        "colab": {
          "base_uri": "https://localhost:8080/",
          "height": 314
        }
      },
      "source": [
        "# group by Sex, Pclass, and Title\n",
        "#combined = train.append(test,ignore_index=True)\n",
        "grouped = train.groupby(['Sex','Pclass', 'Title'])\n",
        "grouped2 = test.groupby(['Sex','Pclass', 'Title'])\n",
        "# view the median Age by the grouped features \n",
        "grouped.Age.median()\n",
        "grouped2.Age.median()"
      ],
      "execution_count": 29,
      "outputs": [
        {
          "output_type": "execute_result",
          "data": {
            "text/plain": [
              "Sex     Pclass  Title\n",
              "female  1       2        32.0\n",
              "                3        48.0\n",
              "                6        39.0\n",
              "        2       2        19.5\n",
              "                3        29.0\n",
              "        3       2        22.0\n",
              "                3        28.0\n",
              "male    1       1        42.0\n",
              "                4         9.5\n",
              "                6        53.0\n",
              "        2       1        28.0\n",
              "                4         5.0\n",
              "                6        35.5\n",
              "        3       1        25.0\n",
              "                4         7.0\n",
              "Name: Age, dtype: float64"
            ]
          },
          "metadata": {
            "tags": []
          },
          "execution_count": 29
        }
      ]
    },
    {
      "cell_type": "markdown",
      "metadata": {
        "id": "3rZJICd5y5iI",
        "colab_type": "text",
        "_uuid": "dbda171c7bdf16c67045b94e06bcc50ac10f569c"
      },
      "source": [
        "Instead of simply filling in the missing Age values with the mean or median age of the dataset, by grouping the data by a passenger’s sex, class, and title, we can drill down a bit deeper and get a closer approximation of what a passenger’s age might have been. Using the grouped.Age variable, we can fill in the missing values for Age."
      ]
    },
    {
      "cell_type": "code",
      "metadata": {
        "id": "0xtKDe2szBvi",
        "colab_type": "code",
        "trusted": false,
        "_uuid": "4174de17d085aadb4ab9e95c098ef8faba13949b",
        "colab": {}
      },
      "source": [
        "# apply the grouped median value on the Age NaN\n",
        "train.Age = grouped.Age.apply(lambda x: x.fillna(x.median()))\n",
        "test.Age = grouped2.Age.apply(lambda x: x.fillna(x.median()))"
      ],
      "execution_count": 0,
      "outputs": []
    },
    {
      "cell_type": "code",
      "metadata": {
        "id": "FyFq6cM_5Grd",
        "colab_type": "code",
        "outputId": "7939cd7f-426c-41e7-96ee-548ca5063df6",
        "trusted": false,
        "_uuid": "e124b98bcbfd099bc9fb539a443b76d82f3193da",
        "colab": {
          "base_uri": "https://localhost:8080/",
          "height": 752
        }
      },
      "source": [
        "train.info()\n",
        "print('-'*40)\n",
        "test.info()"
      ],
      "execution_count": 31,
      "outputs": [
        {
          "output_type": "stream",
          "text": [
            "<class 'pandas.core.frame.DataFrame'>\n",
            "RangeIndex: 891 entries, 0 to 890\n",
            "Data columns (total 14 columns):\n",
            " #   Column       Non-Null Count  Dtype   \n",
            "---  ------       --------------  -----   \n",
            " 0   PassengerId  891 non-null    int64   \n",
            " 1   Survived     891 non-null    int64   \n",
            " 2   Pclass       891 non-null    int64   \n",
            " 3   Name         891 non-null    object  \n",
            " 4   Sex          891 non-null    object  \n",
            " 5   Age          891 non-null    float64 \n",
            " 6   SibSp        891 non-null    int64   \n",
            " 7   Parch        891 non-null    int64   \n",
            " 8   Fare         891 non-null    float64 \n",
            " 9   Cabin        204 non-null    object  \n",
            " 10  Embarked     891 non-null    object  \n",
            " 11  AgeGroup     714 non-null    category\n",
            " 12  CabinBool    891 non-null    int64   \n",
            " 13  Title        891 non-null    int64   \n",
            "dtypes: category(1), float64(2), int64(7), object(4)\n",
            "memory usage: 91.9+ KB\n",
            "----------------------------------------\n",
            "<class 'pandas.core.frame.DataFrame'>\n",
            "RangeIndex: 418 entries, 0 to 417\n",
            "Data columns (total 13 columns):\n",
            " #   Column       Non-Null Count  Dtype   \n",
            "---  ------       --------------  -----   \n",
            " 0   PassengerId  418 non-null    int64   \n",
            " 1   Pclass       418 non-null    int64   \n",
            " 2   Name         418 non-null    object  \n",
            " 3   Sex          418 non-null    object  \n",
            " 4   Age          418 non-null    float64 \n",
            " 5   SibSp        418 non-null    int64   \n",
            " 6   Parch        418 non-null    int64   \n",
            " 7   Fare         417 non-null    float64 \n",
            " 8   Cabin        91 non-null     object  \n",
            " 9   Embarked     418 non-null    object  \n",
            " 10  AgeGroup     332 non-null    category\n",
            " 11  CabinBool    418 non-null    int64   \n",
            " 12  Title        418 non-null    int64   \n",
            "dtypes: category(1), float64(2), int64(6), object(4)\n",
            "memory usage: 40.1+ KB\n"
          ],
          "name": "stdout"
        }
      ]
    },
    {
      "cell_type": "markdown",
      "metadata": {
        "id": "D9fLaE2v3WVw",
        "colab_type": "text",
        "_uuid": "1af74ff43dcce170e720c90e644ffc41d73df7e4"
      },
      "source": [
        "##Name Feature\n",
        "\n",
        "we can drop name feature now as we've extracted the title."
      ]
    },
    {
      "cell_type": "code",
      "metadata": {
        "id": "93ms3bjU3if6",
        "colab_type": "code",
        "trusted": false,
        "_uuid": "419964cd3c2764fcdd626eb89691f8dac9f0b1d2",
        "colab": {}
      },
      "source": [
        "#drop the name feature\n",
        "train.drop(['Name'], axis = 1, inplace=True)\n",
        "test.drop(['Name'],axis = 1, inplace=True)"
      ],
      "execution_count": 0,
      "outputs": []
    },
    {
      "cell_type": "markdown",
      "metadata": {
        "id": "3wFw1E_aDYD_",
        "colab_type": "text",
        "_uuid": "dbaef08da0bd0c6302c882fa1a05986dfd0174bc"
      },
      "source": [
        "##Sex Feature"
      ]
    },
    {
      "cell_type": "code",
      "metadata": {
        "id": "Z4pyfZNxDeRV",
        "colab_type": "code",
        "outputId": "ab1eb90f-79c0-41a0-b64b-d778f6b0f8fa",
        "trusted": false,
        "_uuid": "1e4ad7911d73f3f08f7791a116cab76cffa7cdcd",
        "colab": {
          "base_uri": "https://localhost:8080/",
          "height": 204
        }
      },
      "source": [
        "# map each sex value to anumerical value\n",
        "sex_mapping = {\"male\":0,\"female\":1}\n",
        "train['Sex'] = train['Sex'].map(sex_mapping)\n",
        "test['Sex'] = test['Sex'].map(sex_mapping)\n",
        "\n",
        "train.head()"
      ],
      "execution_count": 33,
      "outputs": [
        {
          "output_type": "execute_result",
          "data": {
            "text/html": [
              "<div>\n",
              "<style scoped>\n",
              "    .dataframe tbody tr th:only-of-type {\n",
              "        vertical-align: middle;\n",
              "    }\n",
              "\n",
              "    .dataframe tbody tr th {\n",
              "        vertical-align: top;\n",
              "    }\n",
              "\n",
              "    .dataframe thead th {\n",
              "        text-align: right;\n",
              "    }\n",
              "</style>\n",
              "<table border=\"1\" class=\"dataframe\">\n",
              "  <thead>\n",
              "    <tr style=\"text-align: right;\">\n",
              "      <th></th>\n",
              "      <th>PassengerId</th>\n",
              "      <th>Survived</th>\n",
              "      <th>Pclass</th>\n",
              "      <th>Sex</th>\n",
              "      <th>Age</th>\n",
              "      <th>SibSp</th>\n",
              "      <th>Parch</th>\n",
              "      <th>Fare</th>\n",
              "      <th>Cabin</th>\n",
              "      <th>Embarked</th>\n",
              "      <th>AgeGroup</th>\n",
              "      <th>CabinBool</th>\n",
              "      <th>Title</th>\n",
              "    </tr>\n",
              "  </thead>\n",
              "  <tbody>\n",
              "    <tr>\n",
              "      <th>0</th>\n",
              "      <td>1</td>\n",
              "      <td>0</td>\n",
              "      <td>3</td>\n",
              "      <td>0</td>\n",
              "      <td>22.0</td>\n",
              "      <td>1</td>\n",
              "      <td>0</td>\n",
              "      <td>7.2500</td>\n",
              "      <td>NaN</td>\n",
              "      <td>S</td>\n",
              "      <td>Student</td>\n",
              "      <td>0</td>\n",
              "      <td>1</td>\n",
              "    </tr>\n",
              "    <tr>\n",
              "      <th>1</th>\n",
              "      <td>2</td>\n",
              "      <td>1</td>\n",
              "      <td>1</td>\n",
              "      <td>1</td>\n",
              "      <td>38.0</td>\n",
              "      <td>1</td>\n",
              "      <td>0</td>\n",
              "      <td>71.2833</td>\n",
              "      <td>C85</td>\n",
              "      <td>C</td>\n",
              "      <td>Adult</td>\n",
              "      <td>1</td>\n",
              "      <td>3</td>\n",
              "    </tr>\n",
              "    <tr>\n",
              "      <th>2</th>\n",
              "      <td>3</td>\n",
              "      <td>1</td>\n",
              "      <td>3</td>\n",
              "      <td>1</td>\n",
              "      <td>26.0</td>\n",
              "      <td>0</td>\n",
              "      <td>0</td>\n",
              "      <td>7.9250</td>\n",
              "      <td>NaN</td>\n",
              "      <td>S</td>\n",
              "      <td>Young adult</td>\n",
              "      <td>0</td>\n",
              "      <td>2</td>\n",
              "    </tr>\n",
              "    <tr>\n",
              "      <th>3</th>\n",
              "      <td>4</td>\n",
              "      <td>1</td>\n",
              "      <td>1</td>\n",
              "      <td>1</td>\n",
              "      <td>35.0</td>\n",
              "      <td>1</td>\n",
              "      <td>0</td>\n",
              "      <td>53.1000</td>\n",
              "      <td>C123</td>\n",
              "      <td>S</td>\n",
              "      <td>Young adult</td>\n",
              "      <td>1</td>\n",
              "      <td>3</td>\n",
              "    </tr>\n",
              "    <tr>\n",
              "      <th>4</th>\n",
              "      <td>5</td>\n",
              "      <td>0</td>\n",
              "      <td>3</td>\n",
              "      <td>0</td>\n",
              "      <td>35.0</td>\n",
              "      <td>0</td>\n",
              "      <td>0</td>\n",
              "      <td>8.0500</td>\n",
              "      <td>NaN</td>\n",
              "      <td>S</td>\n",
              "      <td>Young adult</td>\n",
              "      <td>0</td>\n",
              "      <td>1</td>\n",
              "    </tr>\n",
              "  </tbody>\n",
              "</table>\n",
              "</div>"
            ],
            "text/plain": [
              "   PassengerId  Survived  Pclass  Sex  ...  Embarked     AgeGroup  CabinBool  Title\n",
              "0            1         0       3    0  ...         S      Student          0      1\n",
              "1            2         1       1    1  ...         C        Adult          1      3\n",
              "2            3         1       3    1  ...         S  Young adult          0      2\n",
              "3            4         1       1    1  ...         S  Young adult          1      3\n",
              "4            5         0       3    0  ...         S  Young adult          0      1\n",
              "\n",
              "[5 rows x 13 columns]"
            ]
          },
          "metadata": {
            "tags": []
          },
          "execution_count": 33
        }
      ]
    },
    {
      "cell_type": "code",
      "metadata": {
        "id": "TGzIpFyyEVhI",
        "colab_type": "code",
        "trusted": false,
        "_uuid": "efc6410dab91d76d368840b9fed67cf0c308e236",
        "colab": {}
      },
      "source": [
        "train.drop('AgeGroup',axis=1,inplace=True)\n",
        "test.drop('AgeGroup',axis=1,inplace=True)"
      ],
      "execution_count": 0,
      "outputs": []
    },
    {
      "cell_type": "code",
      "metadata": {
        "id": "Z3ZggEKANQts",
        "colab_type": "code",
        "outputId": "d25b9474-e15c-476b-ce88-520fb38bca03",
        "trusted": false,
        "_uuid": "1f1bf221ea188be22c02a790df2ea1c44915bf86",
        "colab": {
          "base_uri": "https://localhost:8080/",
          "height": 664
        }
      },
      "source": [
        "train.info()\n",
        "test.info()"
      ],
      "execution_count": 35,
      "outputs": [
        {
          "output_type": "stream",
          "text": [
            "<class 'pandas.core.frame.DataFrame'>\n",
            "RangeIndex: 891 entries, 0 to 890\n",
            "Data columns (total 12 columns):\n",
            " #   Column       Non-Null Count  Dtype  \n",
            "---  ------       --------------  -----  \n",
            " 0   PassengerId  891 non-null    int64  \n",
            " 1   Survived     891 non-null    int64  \n",
            " 2   Pclass       891 non-null    int64  \n",
            " 3   Sex          891 non-null    int64  \n",
            " 4   Age          891 non-null    float64\n",
            " 5   SibSp        891 non-null    int64  \n",
            " 6   Parch        891 non-null    int64  \n",
            " 7   Fare         891 non-null    float64\n",
            " 8   Cabin        204 non-null    object \n",
            " 9   Embarked     891 non-null    object \n",
            " 10  CabinBool    891 non-null    int64  \n",
            " 11  Title        891 non-null    int64  \n",
            "dtypes: float64(2), int64(8), object(2)\n",
            "memory usage: 83.7+ KB\n",
            "<class 'pandas.core.frame.DataFrame'>\n",
            "RangeIndex: 418 entries, 0 to 417\n",
            "Data columns (total 11 columns):\n",
            " #   Column       Non-Null Count  Dtype  \n",
            "---  ------       --------------  -----  \n",
            " 0   PassengerId  418 non-null    int64  \n",
            " 1   Pclass       418 non-null    int64  \n",
            " 2   Sex          418 non-null    int64  \n",
            " 3   Age          418 non-null    float64\n",
            " 4   SibSp        418 non-null    int64  \n",
            " 5   Parch        418 non-null    int64  \n",
            " 6   Fare         417 non-null    float64\n",
            " 7   Cabin        91 non-null     object \n",
            " 8   Embarked     418 non-null    object \n",
            " 9   CabinBool    418 non-null    int64  \n",
            " 10  Title        418 non-null    int64  \n",
            "dtypes: float64(2), int64(7), object(2)\n",
            "memory usage: 36.0+ KB\n"
          ],
          "name": "stdout"
        }
      ]
    },
    {
      "cell_type": "markdown",
      "metadata": {
        "id": "3z8VWx0hNw3t",
        "colab_type": "text",
        "_uuid": "16e8c32efc8bc82ef5efe0c1669bbc4c81734ba1"
      },
      "source": [
        "##Embarked Feature"
      ]
    },
    {
      "cell_type": "code",
      "metadata": {
        "id": "Df6KSwO_N0U0",
        "colab_type": "code",
        "trusted": false,
        "_uuid": "855ab4486d5c93d645924ef742586baa480af802",
        "colab": {}
      },
      "source": [
        "# Map each Embarked value to a numerical value\n",
        "embarked_mapping = {'S':1,'C':2,'Q':3}\n",
        "train['Embarked'] = train['Embarked'].map(embarked_mapping)\n",
        "test['Embarked'] = test['Embarked'].map(embarked_mapping)\n"
      ],
      "execution_count": 0,
      "outputs": []
    },
    {
      "cell_type": "code",
      "metadata": {
        "id": "V6rgv2gfPZqx",
        "colab_type": "code",
        "trusted": false,
        "_uuid": "9fd4f751b30e388f97eb0b7b6b9ab2e426a65998",
        "colab": {}
      },
      "source": [
        "#Drop the cabin Feature\n",
        "train.drop('Cabin',axis=1,inplace=True)\n",
        "test.drop('Cabin',axis=1,inplace=True)"
      ],
      "execution_count": 0,
      "outputs": []
    },
    {
      "cell_type": "markdown",
      "metadata": {
        "id": "eiWOLfwLQIA1",
        "colab_type": "text",
        "_uuid": "9730968598f5c8ba7d7b332f41cd57fa4594513b"
      },
      "source": [
        "##Fare Feature\n",
        "We will seaperate the fare value into logical groups as well as filling in single missing value in the dataset."
      ]
    },
    {
      "cell_type": "code",
      "metadata": {
        "id": "dmn3E18UQZpq",
        "colab_type": "code",
        "trusted": false,
        "_uuid": "78cbda49240b28cb61e03b173ddfac6b8504c163",
        "colab": {}
      },
      "source": [
        "#fill in the missing Fare value in Test set based on mean fare for that Pclass\n",
        "for x in range(len(test['Fare'])):\n",
        "  if pd.isnull(test['Fare'][x]):\n",
        "    pclass = test['Pclass'][x]  #Pclass = 3\n",
        "    test['Fare'][x] = round(train[train['Pclass'] == pclass]['Fare'].mean(), 4)\n",
        "    \n",
        "# maping Fare into Group of numerical values\n",
        "train['FareBand'] = pd.qcut(train['Fare'], 4, labels = [1, 2, 3, 4])\n",
        "test['FareBand'] = pd.qcut(test['Fare'], 4, labels = [1, 2, 3, 4])\n",
        "\n",
        "#drop Fare values\n",
        "train.drop(['Fare'],axis=1,inplace=True)\n",
        "test.drop(['Fare'],axis=1,inplace=True)"
      ],
      "execution_count": 0,
      "outputs": []
    },
    {
      "cell_type": "code",
      "metadata": {
        "id": "M5XltjTaR7Er",
        "colab_type": "code",
        "outputId": "1d0a55ca-dc9a-4987-a196-89a24e64ca99",
        "trusted": false,
        "_uuid": "1f529993b0bdc6ab48417afdfbc73c6e0bfd4811",
        "colab": {
          "base_uri": "https://localhost:8080/",
          "height": 204
        }
      },
      "source": [
        "train.head()"
      ],
      "execution_count": 39,
      "outputs": [
        {
          "output_type": "execute_result",
          "data": {
            "text/html": [
              "<div>\n",
              "<style scoped>\n",
              "    .dataframe tbody tr th:only-of-type {\n",
              "        vertical-align: middle;\n",
              "    }\n",
              "\n",
              "    .dataframe tbody tr th {\n",
              "        vertical-align: top;\n",
              "    }\n",
              "\n",
              "    .dataframe thead th {\n",
              "        text-align: right;\n",
              "    }\n",
              "</style>\n",
              "<table border=\"1\" class=\"dataframe\">\n",
              "  <thead>\n",
              "    <tr style=\"text-align: right;\">\n",
              "      <th></th>\n",
              "      <th>PassengerId</th>\n",
              "      <th>Survived</th>\n",
              "      <th>Pclass</th>\n",
              "      <th>Sex</th>\n",
              "      <th>Age</th>\n",
              "      <th>SibSp</th>\n",
              "      <th>Parch</th>\n",
              "      <th>Embarked</th>\n",
              "      <th>CabinBool</th>\n",
              "      <th>Title</th>\n",
              "      <th>FareBand</th>\n",
              "    </tr>\n",
              "  </thead>\n",
              "  <tbody>\n",
              "    <tr>\n",
              "      <th>0</th>\n",
              "      <td>1</td>\n",
              "      <td>0</td>\n",
              "      <td>3</td>\n",
              "      <td>0</td>\n",
              "      <td>22.0</td>\n",
              "      <td>1</td>\n",
              "      <td>0</td>\n",
              "      <td>1</td>\n",
              "      <td>0</td>\n",
              "      <td>1</td>\n",
              "      <td>1</td>\n",
              "    </tr>\n",
              "    <tr>\n",
              "      <th>1</th>\n",
              "      <td>2</td>\n",
              "      <td>1</td>\n",
              "      <td>1</td>\n",
              "      <td>1</td>\n",
              "      <td>38.0</td>\n",
              "      <td>1</td>\n",
              "      <td>0</td>\n",
              "      <td>2</td>\n",
              "      <td>1</td>\n",
              "      <td>3</td>\n",
              "      <td>4</td>\n",
              "    </tr>\n",
              "    <tr>\n",
              "      <th>2</th>\n",
              "      <td>3</td>\n",
              "      <td>1</td>\n",
              "      <td>3</td>\n",
              "      <td>1</td>\n",
              "      <td>26.0</td>\n",
              "      <td>0</td>\n",
              "      <td>0</td>\n",
              "      <td>1</td>\n",
              "      <td>0</td>\n",
              "      <td>2</td>\n",
              "      <td>2</td>\n",
              "    </tr>\n",
              "    <tr>\n",
              "      <th>3</th>\n",
              "      <td>4</td>\n",
              "      <td>1</td>\n",
              "      <td>1</td>\n",
              "      <td>1</td>\n",
              "      <td>35.0</td>\n",
              "      <td>1</td>\n",
              "      <td>0</td>\n",
              "      <td>1</td>\n",
              "      <td>1</td>\n",
              "      <td>3</td>\n",
              "      <td>4</td>\n",
              "    </tr>\n",
              "    <tr>\n",
              "      <th>4</th>\n",
              "      <td>5</td>\n",
              "      <td>0</td>\n",
              "      <td>3</td>\n",
              "      <td>0</td>\n",
              "      <td>35.0</td>\n",
              "      <td>0</td>\n",
              "      <td>0</td>\n",
              "      <td>1</td>\n",
              "      <td>0</td>\n",
              "      <td>1</td>\n",
              "      <td>2</td>\n",
              "    </tr>\n",
              "  </tbody>\n",
              "</table>\n",
              "</div>"
            ],
            "text/plain": [
              "   PassengerId  Survived  Pclass  Sex  ...  Embarked  CabinBool  Title  FareBand\n",
              "0            1         0       3    0  ...         1          0      1         1\n",
              "1            2         1       1    1  ...         2          1      3         4\n",
              "2            3         1       3    1  ...         1          0      2         2\n",
              "3            4         1       1    1  ...         1          1      3         4\n",
              "4            5         0       3    0  ...         1          0      1         2\n",
              "\n",
              "[5 rows x 11 columns]"
            ]
          },
          "metadata": {
            "tags": []
          },
          "execution_count": 39
        }
      ]
    },
    {
      "cell_type": "code",
      "metadata": {
        "id": "0P3tV5lsSVLL",
        "colab_type": "code",
        "outputId": "77c9a1b8-88cc-42da-9711-093debbc1271",
        "trusted": false,
        "_uuid": "15a9181e17bb1567c0f5b52ad6d506490fc14a6c",
        "colab": {
          "base_uri": "https://localhost:8080/",
          "height": 204
        }
      },
      "source": [
        "test.head()"
      ],
      "execution_count": 40,
      "outputs": [
        {
          "output_type": "execute_result",
          "data": {
            "text/html": [
              "<div>\n",
              "<style scoped>\n",
              "    .dataframe tbody tr th:only-of-type {\n",
              "        vertical-align: middle;\n",
              "    }\n",
              "\n",
              "    .dataframe tbody tr th {\n",
              "        vertical-align: top;\n",
              "    }\n",
              "\n",
              "    .dataframe thead th {\n",
              "        text-align: right;\n",
              "    }\n",
              "</style>\n",
              "<table border=\"1\" class=\"dataframe\">\n",
              "  <thead>\n",
              "    <tr style=\"text-align: right;\">\n",
              "      <th></th>\n",
              "      <th>PassengerId</th>\n",
              "      <th>Pclass</th>\n",
              "      <th>Sex</th>\n",
              "      <th>Age</th>\n",
              "      <th>SibSp</th>\n",
              "      <th>Parch</th>\n",
              "      <th>Embarked</th>\n",
              "      <th>CabinBool</th>\n",
              "      <th>Title</th>\n",
              "      <th>FareBand</th>\n",
              "    </tr>\n",
              "  </thead>\n",
              "  <tbody>\n",
              "    <tr>\n",
              "      <th>0</th>\n",
              "      <td>892</td>\n",
              "      <td>3</td>\n",
              "      <td>0</td>\n",
              "      <td>34.5</td>\n",
              "      <td>0</td>\n",
              "      <td>0</td>\n",
              "      <td>3</td>\n",
              "      <td>0</td>\n",
              "      <td>1</td>\n",
              "      <td>1</td>\n",
              "    </tr>\n",
              "    <tr>\n",
              "      <th>1</th>\n",
              "      <td>893</td>\n",
              "      <td>3</td>\n",
              "      <td>1</td>\n",
              "      <td>47.0</td>\n",
              "      <td>1</td>\n",
              "      <td>0</td>\n",
              "      <td>1</td>\n",
              "      <td>0</td>\n",
              "      <td>3</td>\n",
              "      <td>1</td>\n",
              "    </tr>\n",
              "    <tr>\n",
              "      <th>2</th>\n",
              "      <td>894</td>\n",
              "      <td>2</td>\n",
              "      <td>0</td>\n",
              "      <td>62.0</td>\n",
              "      <td>0</td>\n",
              "      <td>0</td>\n",
              "      <td>3</td>\n",
              "      <td>0</td>\n",
              "      <td>1</td>\n",
              "      <td>2</td>\n",
              "    </tr>\n",
              "    <tr>\n",
              "      <th>3</th>\n",
              "      <td>895</td>\n",
              "      <td>3</td>\n",
              "      <td>0</td>\n",
              "      <td>27.0</td>\n",
              "      <td>0</td>\n",
              "      <td>0</td>\n",
              "      <td>1</td>\n",
              "      <td>0</td>\n",
              "      <td>1</td>\n",
              "      <td>2</td>\n",
              "    </tr>\n",
              "    <tr>\n",
              "      <th>4</th>\n",
              "      <td>896</td>\n",
              "      <td>3</td>\n",
              "      <td>1</td>\n",
              "      <td>22.0</td>\n",
              "      <td>1</td>\n",
              "      <td>1</td>\n",
              "      <td>1</td>\n",
              "      <td>0</td>\n",
              "      <td>3</td>\n",
              "      <td>2</td>\n",
              "    </tr>\n",
              "  </tbody>\n",
              "</table>\n",
              "</div>"
            ],
            "text/plain": [
              "   PassengerId  Pclass  Sex   Age  ...  Embarked  CabinBool  Title  FareBand\n",
              "0          892       3    0  34.5  ...         3          0      1         1\n",
              "1          893       3    1  47.0  ...         1          0      3         1\n",
              "2          894       2    0  62.0  ...         3          0      1         2\n",
              "3          895       3    0  27.0  ...         1          0      1         2\n",
              "4          896       3    1  22.0  ...         1          0      3         2\n",
              "\n",
              "[5 rows x 10 columns]"
            ]
          },
          "metadata": {
            "tags": []
          },
          "execution_count": 40
        }
      ]
    },
    {
      "cell_type": "markdown",
      "metadata": {
        "id": "jMYmDrHVSmUp",
        "colab_type": "text",
        "_uuid": "25f1b97d9cdf007a75a9f704f72df720054e8141"
      },
      "source": [
        "#6) Choosing the best model\n",
        "\n",
        "## Spliting the Training Data\n",
        "We will use part of our traing data(22% in this case) to test accuracy of our different models.\n"
      ]
    },
    {
      "cell_type": "code",
      "metadata": {
        "id": "l8i3zasrTJ0v",
        "colab_type": "code",
        "trusted": false,
        "_uuid": "f9c8fc7256035f8e34b44315953a32134f2c49f2",
        "colab": {}
      },
      "source": [
        "from sklearn.model_selection import train_test_split\n",
        "\n",
        "predictors = train.drop(['Survived', 'PassengerId'], axis=1)\n",
        "target = train['Survived']\n",
        "x_train, x_val, y_train, y_val = train_test_split(predictors, target, test_size = 0.22, random_state = 0)"
      ],
      "execution_count": 0,
      "outputs": []
    },
    {
      "cell_type": "markdown",
      "metadata": {
        "id": "JdWFe82UUZqH",
        "colab_type": "text",
        "_uuid": "31fda51cf47993c845fa7bb6230b5efa000afa5a"
      },
      "source": [
        "##Model\n",
        "Here i will be using Support Vector Machine(SVM) to predict my output."
      ]
    },
    {
      "cell_type": "code",
      "metadata": {
        "id": "dmElqq5AUoe6",
        "colab_type": "code",
        "outputId": "a50f16d8-e1cf-41e5-fc1f-57b4c08fad61",
        "trusted": false,
        "_uuid": "7f2b55428120d964fb0b969f6eaf97dc84594224",
        "colab": {
          "base_uri": "https://localhost:8080/",
          "height": 34
        }
      },
      "source": [
        "#SVM model\n",
        "from sklearn.svm import SVC\n",
        "from sklearn.metrics import accuracy_score\n",
        "\n",
        "svc = SVC()\n",
        "svc.fit(x_train, y_train)\n",
        "y_pred = svc.predict(x_val)\n",
        "acc_svc = round(accuracy_score(y_pred, y_val) * 100, 2)\n",
        "print(acc_svc)"
      ],
      "execution_count": 46,
      "outputs": [
        {
          "output_type": "stream",
          "text": [
            "72.08\n"
          ],
          "name": "stdout"
        }
      ]
    }
  ]
}